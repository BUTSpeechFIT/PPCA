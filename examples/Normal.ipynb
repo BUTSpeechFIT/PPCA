{
 "cells": [
  {
   "cell_type": "markdown",
   "metadata": {},
   "source": [
    "# Normal distribution \n",
    "\n",
    "The simplest model: the Normal distribution. It is used as a basic components in many more complex models."
   ]
  },
  {
   "cell_type": "code",
   "execution_count": 1,
   "metadata": {},
   "outputs": [
    {
     "name": "stderr",
     "output_type": "stream",
     "text": [
      "\u001b[32m\u001b[1m Activating\u001b[22m\u001b[39m environment at `~/GithubRepositories/PPCA/Project.toml`\n",
      "┌ Info: Precompiling BayesianModels [1400088c-90aa-43b9-ae43-7211fec07595]\n",
      "└ @ Base loading.jl:1278\n"
     ]
    }
   ],
   "source": [
    "using Pkg\n",
    "Pkg.activate(\"../\");\n",
    "\n",
    "using LinearAlgebra\n",
    "using Plots\n",
    "using ExpFamilyDistributions\n",
    "using Random\n",
    "\n",
    "using Revise\n",
    "using BayesianModels\n",
    "\n",
    "using BasicDataLoaders\n",
    "\n",
    "# Plotting function\n",
    "include(\"plotting.jl\");"
   ]
  },
  {
   "cell_type": "code",
   "execution_count": 111,
   "metadata": {},
   "outputs": [
    {
     "data": {
      "image/svg+xml": [
       "<?xml version=\"1.0\" encoding=\"utf-8\"?>\n",
       "<svg xmlns=\"http://www.w3.org/2000/svg\" xmlns:xlink=\"http://www.w3.org/1999/xlink\" width=\"600\" height=\"400\" viewBox=\"0 0 2400 1600\">\n",
       "<defs>\n",
       "  <clipPath id=\"clip000\">\n",
       "    <rect x=\"0\" y=\"0\" width=\"2400\" height=\"1600\"/>\n",
       "  </clipPath>\n",
       "</defs>\n",
       "<path clip-path=\"url(#clip000)\" d=\"\n",
       "M0 1600 L2400 1600 L2400 0 L0 0  Z\n",
       "  \" fill=\"#ffffff\" fill-rule=\"evenodd\" fill-opacity=\"1\"/>\n",
       "<defs>\n",
       "  <clipPath id=\"clip001\">\n",
       "    <rect x=\"480\" y=\"0\" width=\"1681\" height=\"1600\"/>\n",
       "  </clipPath>\n",
       "</defs>\n",
       "<path clip-path=\"url(#clip000)\" d=\"\n",
       "M143.033 1486.45 L2352.76 1486.45 L2352.76 47.2441 L143.033 47.2441  Z\n",
       "  \" fill=\"#ffffff\" fill-rule=\"evenodd\" fill-opacity=\"1\"/>\n",
       "<defs>\n",
       "  <clipPath id=\"clip002\">\n",
       "    <rect x=\"143\" y=\"47\" width=\"2211\" height=\"1440\"/>\n",
       "  </clipPath>\n",
       "</defs>\n",
       "<polyline clip-path=\"url(#clip002)\" style=\"stroke:#000000; stroke-width:2; stroke-opacity:0.1; fill:none\" points=\"\n",
       "  647.457,1486.45 647.457,47.2441 \n",
       "  \"/>\n",
       "<polyline clip-path=\"url(#clip002)\" style=\"stroke:#000000; stroke-width:2; stroke-opacity:0.1; fill:none\" points=\"\n",
       "  1190.3,1486.45 1190.3,47.2441 \n",
       "  \"/>\n",
       "<polyline clip-path=\"url(#clip002)\" style=\"stroke:#000000; stroke-width:2; stroke-opacity:0.1; fill:none\" points=\"\n",
       "  1733.14,1486.45 1733.14,47.2441 \n",
       "  \"/>\n",
       "<polyline clip-path=\"url(#clip002)\" style=\"stroke:#000000; stroke-width:2; stroke-opacity:0.1; fill:none\" points=\"\n",
       "  2275.98,1486.45 2275.98,47.2441 \n",
       "  \"/>\n",
       "<polyline clip-path=\"url(#clip000)\" style=\"stroke:#000000; stroke-width:4; stroke-opacity:1; fill:none\" points=\"\n",
       "  143.033,1486.45 2352.76,1486.45 \n",
       "  \"/>\n",
       "<polyline clip-path=\"url(#clip000)\" style=\"stroke:#000000; stroke-width:4; stroke-opacity:1; fill:none\" points=\"\n",
       "  647.457,1486.45 647.457,1469.18 \n",
       "  \"/>\n",
       "<polyline clip-path=\"url(#clip000)\" style=\"stroke:#000000; stroke-width:4; stroke-opacity:1; fill:none\" points=\"\n",
       "  1190.3,1486.45 1190.3,1469.18 \n",
       "  \"/>\n",
       "<polyline clip-path=\"url(#clip000)\" style=\"stroke:#000000; stroke-width:4; stroke-opacity:1; fill:none\" points=\"\n",
       "  1733.14,1486.45 1733.14,1469.18 \n",
       "  \"/>\n",
       "<polyline clip-path=\"url(#clip000)\" style=\"stroke:#000000; stroke-width:4; stroke-opacity:1; fill:none\" points=\"\n",
       "  2275.98,1486.45 2275.98,1469.18 \n",
       "  \"/>\n",
       "<path clip-path=\"url(#clip000)\" d=\"M 0 0 M647.457 1515.64 Q643.846 1515.64 642.017 1519.2 Q640.212 1522.75 640.212 1529.87 Q640.212 1536.98 642.017 1540.55 Q643.846 1544.09 647.457 1544.09 Q651.091 1544.09 652.897 1540.55 Q654.725 1536.98 654.725 1529.87 Q654.725 1522.75 652.897 1519.2 Q651.091 1515.64 647.457 1515.64 M647.457 1511.93 Q653.267 1511.93 656.323 1516.54 Q659.401 1521.12 659.401 1529.87 Q659.401 1538.6 656.323 1543.21 Q653.267 1547.79 647.457 1547.79 Q641.647 1547.79 638.568 1543.21 Q635.512 1538.6 635.512 1529.87 Q635.512 1521.12 638.568 1516.54 Q641.647 1511.93 647.457 1511.93 Z\" fill=\"#000000\" fill-rule=\"evenodd\" fill-opacity=\"1\" /><path clip-path=\"url(#clip000)\" d=\"M 0 0 M1184.95 1543.18 L1201.27 1543.18 L1201.27 1547.12 L1179.32 1547.12 L1179.32 1543.18 Q1181.99 1540.43 1186.57 1535.8 Q1191.18 1531.15 1192.36 1529.81 Q1194.6 1527.28 1195.48 1525.55 Q1196.38 1523.79 1196.38 1522.1 Q1196.38 1519.34 1194.44 1517.61 Q1192.52 1515.87 1189.42 1515.87 Q1187.22 1515.87 1184.76 1516.63 Q1182.33 1517.4 1179.56 1518.95 L1179.56 1514.23 Q1182.38 1513.09 1184.83 1512.51 Q1187.29 1511.93 1189.32 1511.93 Q1194.69 1511.93 1197.89 1514.62 Q1201.08 1517.31 1201.08 1521.8 Q1201.08 1523.93 1200.27 1525.85 Q1199.49 1527.74 1197.38 1530.34 Q1196.8 1531.01 1193.7 1534.23 Q1190.6 1537.42 1184.95 1543.18 Z\" fill=\"#000000\" fill-rule=\"evenodd\" fill-opacity=\"1\" /><path clip-path=\"url(#clip000)\" d=\"M 0 0 M1736.15 1516.63 L1724.34 1535.08 L1736.15 1535.08 L1736.15 1516.63 M1734.92 1512.56 L1740.8 1512.56 L1740.8 1535.08 L1745.73 1535.08 L1745.73 1538.97 L1740.8 1538.97 L1740.8 1547.12 L1736.15 1547.12 L1736.15 1538.97 L1720.54 1538.97 L1720.54 1534.46 L1734.92 1512.56 Z\" fill=\"#000000\" fill-rule=\"evenodd\" fill-opacity=\"1\" /><path clip-path=\"url(#clip000)\" d=\"M 0 0 M2276.38 1527.98 Q2273.23 1527.98 2271.38 1530.13 Q2269.55 1532.28 2269.55 1536.03 Q2269.55 1539.76 2271.38 1541.93 Q2273.23 1544.09 2276.38 1544.09 Q2279.53 1544.09 2281.36 1541.93 Q2283.21 1539.76 2283.21 1536.03 Q2283.21 1532.28 2281.36 1530.13 Q2279.53 1527.98 2276.38 1527.98 M2285.66 1513.32 L2285.66 1517.58 Q2283.9 1516.75 2282.1 1516.31 Q2280.32 1515.87 2278.56 1515.87 Q2273.93 1515.87 2271.47 1519 Q2269.04 1522.12 2268.7 1528.44 Q2270.06 1526.43 2272.12 1525.36 Q2274.18 1524.27 2276.66 1524.27 Q2281.87 1524.27 2284.88 1527.44 Q2287.91 1530.59 2287.91 1536.03 Q2287.91 1541.36 2284.76 1544.57 Q2281.61 1547.79 2276.38 1547.79 Q2270.38 1547.79 2267.21 1543.21 Q2264.04 1538.6 2264.04 1529.87 Q2264.04 1521.68 2267.93 1516.82 Q2271.82 1511.93 2278.37 1511.93 Q2280.13 1511.93 2281.91 1512.28 Q2283.72 1512.63 2285.66 1513.32 Z\" fill=\"#000000\" fill-rule=\"evenodd\" fill-opacity=\"1\" /><polyline clip-path=\"url(#clip002)\" style=\"stroke:#000000; stroke-width:2; stroke-opacity:0.1; fill:none\" points=\"\n",
       "  143.033,1426.44 2352.76,1426.44 \n",
       "  \"/>\n",
       "<polyline clip-path=\"url(#clip002)\" style=\"stroke:#000000; stroke-width:2; stroke-opacity:0.1; fill:none\" points=\"\n",
       "  143.033,1164.67 2352.76,1164.67 \n",
       "  \"/>\n",
       "<polyline clip-path=\"url(#clip002)\" style=\"stroke:#000000; stroke-width:2; stroke-opacity:0.1; fill:none\" points=\"\n",
       "  143.033,902.913 2352.76,902.913 \n",
       "  \"/>\n",
       "<polyline clip-path=\"url(#clip002)\" style=\"stroke:#000000; stroke-width:2; stroke-opacity:0.1; fill:none\" points=\"\n",
       "  143.033,641.152 2352.76,641.152 \n",
       "  \"/>\n",
       "<polyline clip-path=\"url(#clip002)\" style=\"stroke:#000000; stroke-width:2; stroke-opacity:0.1; fill:none\" points=\"\n",
       "  143.033,379.39 2352.76,379.39 \n",
       "  \"/>\n",
       "<polyline clip-path=\"url(#clip002)\" style=\"stroke:#000000; stroke-width:2; stroke-opacity:0.1; fill:none\" points=\"\n",
       "  143.033,117.629 2352.76,117.629 \n",
       "  \"/>\n",
       "<polyline clip-path=\"url(#clip000)\" style=\"stroke:#000000; stroke-width:4; stroke-opacity:1; fill:none\" points=\"\n",
       "  143.033,1486.45 143.033,47.2441 \n",
       "  \"/>\n",
       "<polyline clip-path=\"url(#clip000)\" style=\"stroke:#000000; stroke-width:4; stroke-opacity:1; fill:none\" points=\"\n",
       "  143.033,1426.44 169.55,1426.44 \n",
       "  \"/>\n",
       "<polyline clip-path=\"url(#clip000)\" style=\"stroke:#000000; stroke-width:4; stroke-opacity:1; fill:none\" points=\"\n",
       "  143.033,1164.67 169.55,1164.67 \n",
       "  \"/>\n",
       "<polyline clip-path=\"url(#clip000)\" style=\"stroke:#000000; stroke-width:4; stroke-opacity:1; fill:none\" points=\"\n",
       "  143.033,902.913 169.55,902.913 \n",
       "  \"/>\n",
       "<polyline clip-path=\"url(#clip000)\" style=\"stroke:#000000; stroke-width:4; stroke-opacity:1; fill:none\" points=\"\n",
       "  143.033,641.152 169.55,641.152 \n",
       "  \"/>\n",
       "<polyline clip-path=\"url(#clip000)\" style=\"stroke:#000000; stroke-width:4; stroke-opacity:1; fill:none\" points=\"\n",
       "  143.033,379.39 169.55,379.39 \n",
       "  \"/>\n",
       "<polyline clip-path=\"url(#clip000)\" style=\"stroke:#000000; stroke-width:4; stroke-opacity:1; fill:none\" points=\"\n",
       "  143.033,117.629 169.55,117.629 \n",
       "  \"/>\n",
       "<path clip-path=\"url(#clip000)\" d=\"M 0 0 M50.9921 1426.89 L80.6679 1426.89 L80.6679 1430.82 L50.9921 1430.82 L50.9921 1426.89 Z\" fill=\"#000000\" fill-rule=\"evenodd\" fill-opacity=\"1\" /><path clip-path=\"url(#clip000)\" d=\"M 0 0 M99.9039 1425.08 Q103.26 1425.8 105.135 1428.07 Q107.033 1430.34 107.033 1433.67 Q107.033 1438.79 103.515 1441.59 Q99.9965 1444.39 93.515 1444.39 Q91.3391 1444.39 89.0243 1443.95 Q86.7327 1443.53 84.279 1442.67 L84.279 1438.16 Q86.2234 1439.29 88.5382 1439.87 Q90.853 1440.45 93.3762 1440.45 Q97.7743 1440.45 100.066 1438.72 Q102.381 1436.98 102.381 1433.67 Q102.381 1430.61 100.228 1428.9 Q98.0984 1427.17 94.2789 1427.17 L90.2512 1427.17 L90.2512 1423.32 L94.4641 1423.32 Q97.9132 1423.32 99.7419 1421.96 Q101.571 1420.57 101.571 1417.98 Q101.571 1415.31 99.6724 1413.9 Q97.7974 1412.47 94.2789 1412.47 Q92.3576 1412.47 90.1586 1412.88 Q87.9595 1413.3 85.3206 1414.18 L85.3206 1410.01 Q87.9827 1409.27 90.2975 1408.9 Q92.6354 1408.53 94.6956 1408.53 Q100.02 1408.53 103.121 1410.96 Q106.223 1413.37 106.223 1417.49 Q106.223 1420.36 104.58 1422.35 Q102.936 1424.32 99.9039 1425.08 Z\" fill=\"#000000\" fill-rule=\"evenodd\" fill-opacity=\"1\" /><path clip-path=\"url(#clip000)\" d=\"M 0 0 M51.9412 1165.13 L81.617 1165.13 L81.617 1169.06 L51.9412 1169.06 L51.9412 1165.13 Z\" fill=\"#000000\" fill-rule=\"evenodd\" fill-opacity=\"1\" /><path clip-path=\"url(#clip000)\" d=\"M 0 0 M90.7141 1178.02 L107.033 1178.02 L107.033 1181.95 L85.0892 1181.95 L85.0892 1178.02 Q87.7512 1175.26 92.3345 1170.64 Q96.941 1165.98 98.1215 1164.64 Q100.367 1162.12 101.246 1160.38 Q102.149 1158.62 102.149 1156.93 Q102.149 1154.18 100.205 1152.44 Q98.2835 1150.7 95.1817 1150.7 Q92.9826 1150.7 90.529 1151.47 Q88.0984 1152.23 85.3206 1153.78 L85.3206 1149.06 Q88.1447 1147.93 90.5984 1147.35 Q93.0521 1146.77 95.0891 1146.77 Q100.459 1146.77 103.654 1149.45 Q106.848 1152.14 106.848 1156.63 Q106.848 1158.76 106.038 1160.68 Q105.251 1162.58 103.145 1165.17 Q102.566 1165.84 99.4641 1169.06 Q96.3623 1172.26 90.7141 1178.02 Z\" fill=\"#000000\" fill-rule=\"evenodd\" fill-opacity=\"1\" /><path clip-path=\"url(#clip000)\" d=\"M 0 0 M51.5708 903.364 L81.2466 903.364 L81.2466 907.3 L51.5708 907.3 L51.5708 903.364 Z\" fill=\"#000000\" fill-rule=\"evenodd\" fill-opacity=\"1\" /><path clip-path=\"url(#clip000)\" d=\"M 0 0 M87.1262 916.258 L94.765 916.258 L94.765 889.892 L86.4549 891.559 L86.4549 887.3 L94.7187 885.633 L99.3946 885.633 L99.3946 916.258 L107.033 916.258 L107.033 920.193 L87.1262 920.193 L87.1262 916.258 Z\" fill=\"#000000\" fill-rule=\"evenodd\" fill-opacity=\"1\" /><path clip-path=\"url(#clip000)\" d=\"M 0 0 M95.0891 626.95 Q91.478 626.95 89.6493 630.515 Q87.8438 634.057 87.8438 641.186 Q87.8438 648.293 89.6493 651.858 Q91.478 655.399 95.0891 655.399 Q98.7234 655.399 100.529 651.858 Q102.358 648.293 102.358 641.186 Q102.358 634.057 100.529 630.515 Q98.7234 626.95 95.0891 626.95 M95.0891 623.247 Q100.899 623.247 103.955 627.853 Q107.033 632.436 107.033 641.186 Q107.033 649.913 103.955 654.52 Q100.899 659.103 95.0891 659.103 Q89.279 659.103 86.2003 654.52 Q83.1447 649.913 83.1447 641.186 Q83.1447 632.436 86.2003 627.853 Q89.279 623.247 95.0891 623.247 Z\" fill=\"#000000\" fill-rule=\"evenodd\" fill-opacity=\"1\" /><path clip-path=\"url(#clip000)\" d=\"M 0 0 M87.1262 392.735 L94.765 392.735 L94.765 366.37 L86.4549 368.036 L86.4549 363.777 L94.7187 362.11 L99.3946 362.11 L99.3946 392.735 L107.033 392.735 L107.033 396.67 L87.1262 396.67 L87.1262 392.735 Z\" fill=\"#000000\" fill-rule=\"evenodd\" fill-opacity=\"1\" /><path clip-path=\"url(#clip000)\" d=\"M 0 0 M90.7141 130.974 L107.033 130.974 L107.033 134.909 L85.0892 134.909 L85.0892 130.974 Q87.7512 128.219 92.3345 123.59 Q96.941 118.937 98.1215 117.594 Q100.367 115.071 101.246 113.335 Q102.149 111.576 102.149 109.886 Q102.149 107.131 100.205 105.395 Q98.2835 103.659 95.1817 103.659 Q92.9826 103.659 90.529 104.423 Q88.0984 105.187 85.3206 106.738 L85.3206 102.016 Q88.1447 100.881 90.5984 100.303 Q93.0521 99.7239 95.0891 99.7239 Q100.459 99.7239 103.654 102.409 Q106.848 105.094 106.848 109.585 Q106.848 111.715 106.038 113.636 Q105.251 115.534 103.145 118.127 Q102.566 118.798 99.4641 122.015 Q96.3623 125.21 90.7141 130.974 Z\" fill=\"#000000\" fill-rule=\"evenodd\" fill-opacity=\"1\" /><circle clip-path=\"url(#clip002)\" cx=\"666.254\" cy=\"324.371\" r=\"14\" fill=\"#0000ff\" fill-rule=\"evenodd\" fill-opacity=\"1\" stroke=\"#000000\" stroke-opacity=\"1\" stroke-width=\"3.2\"/>\n",
       "<circle clip-path=\"url(#clip002)\" cx=\"688.024\" cy=\"409.716\" r=\"14\" fill=\"#0000ff\" fill-rule=\"evenodd\" fill-opacity=\"1\" stroke=\"#000000\" stroke-opacity=\"1\" stroke-width=\"3.2\"/>\n",
       "<circle clip-path=\"url(#clip002)\" cx=\"1524.87\" cy=\"87.9763\" r=\"14\" fill=\"#0000ff\" fill-rule=\"evenodd\" fill-opacity=\"1\" stroke=\"#000000\" stroke-opacity=\"1\" stroke-width=\"3.2\"/>\n",
       "<circle clip-path=\"url(#clip002)\" cx=\"1070.91\" cy=\"504.225\" r=\"14\" fill=\"#0000ff\" fill-rule=\"evenodd\" fill-opacity=\"1\" stroke=\"#000000\" stroke-opacity=\"1\" stroke-width=\"3.2\"/>\n",
       "<circle clip-path=\"url(#clip002)\" cx=\"648.004\" cy=\"144.587\" r=\"14\" fill=\"#0000ff\" fill-rule=\"evenodd\" fill-opacity=\"1\" stroke=\"#000000\" stroke-opacity=\"1\" stroke-width=\"3.2\"/>\n",
       "<circle clip-path=\"url(#clip002)\" cx=\"802.106\" cy=\"410.071\" r=\"14\" fill=\"#0000ff\" fill-rule=\"evenodd\" fill-opacity=\"1\" stroke=\"#000000\" stroke-opacity=\"1\" stroke-width=\"3.2\"/>\n",
       "<circle clip-path=\"url(#clip002)\" cx=\"1259.33\" cy=\"158.563\" r=\"14\" fill=\"#0000ff\" fill-rule=\"evenodd\" fill-opacity=\"1\" stroke=\"#000000\" stroke-opacity=\"1\" stroke-width=\"3.2\"/>\n",
       "<circle clip-path=\"url(#clip002)\" cx=\"867.256\" cy=\"391.932\" r=\"14\" fill=\"#0000ff\" fill-rule=\"evenodd\" fill-opacity=\"1\" stroke=\"#000000\" stroke-opacity=\"1\" stroke-width=\"3.2\"/>\n",
       "<circle clip-path=\"url(#clip002)\" cx=\"759.889\" cy=\"436.028\" r=\"14\" fill=\"#0000ff\" fill-rule=\"evenodd\" fill-opacity=\"1\" stroke=\"#000000\" stroke-opacity=\"1\" stroke-width=\"3.2\"/>\n",
       "<circle clip-path=\"url(#clip002)\" cx=\"1421.76\" cy=\"131.362\" r=\"14\" fill=\"#0000ff\" fill-rule=\"evenodd\" fill-opacity=\"1\" stroke=\"#000000\" stroke-opacity=\"1\" stroke-width=\"3.2\"/>\n",
       "<circle clip-path=\"url(#clip002)\" cx=\"836.041\" cy=\"453.354\" r=\"14\" fill=\"#0000ff\" fill-rule=\"evenodd\" fill-opacity=\"1\" stroke=\"#000000\" stroke-opacity=\"1\" stroke-width=\"3.2\"/>\n",
       "<circle clip-path=\"url(#clip002)\" cx=\"978.484\" cy=\"469.752\" r=\"14\" fill=\"#0000ff\" fill-rule=\"evenodd\" fill-opacity=\"1\" stroke=\"#000000\" stroke-opacity=\"1\" stroke-width=\"3.2\"/>\n",
       "<circle clip-path=\"url(#clip002)\" cx=\"774.827\" cy=\"379.832\" r=\"14\" fill=\"#0000ff\" fill-rule=\"evenodd\" fill-opacity=\"1\" stroke=\"#000000\" stroke-opacity=\"1\" stroke-width=\"3.2\"/>\n",
       "<circle clip-path=\"url(#clip002)\" cx=\"1353.43\" cy=\"389.717\" r=\"14\" fill=\"#0000ff\" fill-rule=\"evenodd\" fill-opacity=\"1\" stroke=\"#000000\" stroke-opacity=\"1\" stroke-width=\"3.2\"/>\n",
       "<circle clip-path=\"url(#clip002)\" cx=\"988.229\" cy=\"304.205\" r=\"14\" fill=\"#0000ff\" fill-rule=\"evenodd\" fill-opacity=\"1\" stroke=\"#000000\" stroke-opacity=\"1\" stroke-width=\"3.2\"/>\n",
       "<circle clip-path=\"url(#clip002)\" cx=\"834.413\" cy=\"289.461\" r=\"14\" fill=\"#0000ff\" fill-rule=\"evenodd\" fill-opacity=\"1\" stroke=\"#000000\" stroke-opacity=\"1\" stroke-width=\"3.2\"/>\n",
       "<circle clip-path=\"url(#clip002)\" cx=\"1086.98\" cy=\"519.109\" r=\"14\" fill=\"#0000ff\" fill-rule=\"evenodd\" fill-opacity=\"1\" stroke=\"#000000\" stroke-opacity=\"1\" stroke-width=\"3.2\"/>\n",
       "<circle clip-path=\"url(#clip002)\" cx=\"1510.96\" cy=\"292.596\" r=\"14\" fill=\"#0000ff\" fill-rule=\"evenodd\" fill-opacity=\"1\" stroke=\"#000000\" stroke-opacity=\"1\" stroke-width=\"3.2\"/>\n",
       "<circle clip-path=\"url(#clip002)\" cx=\"678.141\" cy=\"375.67\" r=\"14\" fill=\"#0000ff\" fill-rule=\"evenodd\" fill-opacity=\"1\" stroke=\"#000000\" stroke-opacity=\"1\" stroke-width=\"3.2\"/>\n",
       "<circle clip-path=\"url(#clip002)\" cx=\"1368.55\" cy=\"366.072\" r=\"14\" fill=\"#0000ff\" fill-rule=\"evenodd\" fill-opacity=\"1\" stroke=\"#000000\" stroke-opacity=\"1\" stroke-width=\"3.2\"/>\n",
       "<circle clip-path=\"url(#clip002)\" cx=\"447.417\" cy=\"579.386\" r=\"14\" fill=\"#0000ff\" fill-rule=\"evenodd\" fill-opacity=\"1\" stroke=\"#000000\" stroke-opacity=\"1\" stroke-width=\"3.2\"/>\n",
       "<circle clip-path=\"url(#clip002)\" cx=\"1164.05\" cy=\"291.356\" r=\"14\" fill=\"#0000ff\" fill-rule=\"evenodd\" fill-opacity=\"1\" stroke=\"#000000\" stroke-opacity=\"1\" stroke-width=\"3.2\"/>\n",
       "<circle clip-path=\"url(#clip002)\" cx=\"750.321\" cy=\"297.192\" r=\"14\" fill=\"#0000ff\" fill-rule=\"evenodd\" fill-opacity=\"1\" stroke=\"#000000\" stroke-opacity=\"1\" stroke-width=\"3.2\"/>\n",
       "<circle clip-path=\"url(#clip002)\" cx=\"219.985\" cy=\"428.57\" r=\"14\" fill=\"#0000ff\" fill-rule=\"evenodd\" fill-opacity=\"1\" stroke=\"#000000\" stroke-opacity=\"1\" stroke-width=\"3.2\"/>\n",
       "<circle clip-path=\"url(#clip002)\" cx=\"1306.1\" cy=\"350.938\" r=\"14\" fill=\"#0000ff\" fill-rule=\"evenodd\" fill-opacity=\"1\" stroke=\"#000000\" stroke-opacity=\"1\" stroke-width=\"3.2\"/>\n",
       "<circle clip-path=\"url(#clip002)\" cx=\"823.195\" cy=\"568.583\" r=\"14\" fill=\"#0000ff\" fill-rule=\"evenodd\" fill-opacity=\"1\" stroke=\"#000000\" stroke-opacity=\"1\" stroke-width=\"3.2\"/>\n",
       "<circle clip-path=\"url(#clip002)\" cx=\"1088.01\" cy=\"448.355\" r=\"14\" fill=\"#0000ff\" fill-rule=\"evenodd\" fill-opacity=\"1\" stroke=\"#000000\" stroke-opacity=\"1\" stroke-width=\"3.2\"/>\n",
       "<circle clip-path=\"url(#clip002)\" cx=\"1245.19\" cy=\"531.63\" r=\"14\" fill=\"#0000ff\" fill-rule=\"evenodd\" fill-opacity=\"1\" stroke=\"#000000\" stroke-opacity=\"1\" stroke-width=\"3.2\"/>\n",
       "<circle clip-path=\"url(#clip002)\" cx=\"345.339\" cy=\"574.957\" r=\"14\" fill=\"#0000ff\" fill-rule=\"evenodd\" fill-opacity=\"1\" stroke=\"#000000\" stroke-opacity=\"1\" stroke-width=\"3.2\"/>\n",
       "<circle clip-path=\"url(#clip002)\" cx=\"2290.22\" cy=\"429.767\" r=\"14\" fill=\"#0000ff\" fill-rule=\"evenodd\" fill-opacity=\"1\" stroke=\"#000000\" stroke-opacity=\"1\" stroke-width=\"3.2\"/>\n",
       "<circle clip-path=\"url(#clip002)\" cx=\"470.691\" cy=\"1198.2\" r=\"14\" fill=\"#0000ff\" fill-rule=\"evenodd\" fill-opacity=\"1\" stroke=\"#000000\" stroke-opacity=\"1\" stroke-width=\"3.2\"/>\n",
       "<circle clip-path=\"url(#clip002)\" cx=\"352.187\" cy=\"1445.72\" r=\"14\" fill=\"#0000ff\" fill-rule=\"evenodd\" fill-opacity=\"1\" stroke=\"#000000\" stroke-opacity=\"1\" stroke-width=\"3.2\"/>\n",
       "<circle clip-path=\"url(#clip002)\" cx=\"637.516\" cy=\"1226.51\" r=\"14\" fill=\"#0000ff\" fill-rule=\"evenodd\" fill-opacity=\"1\" stroke=\"#000000\" stroke-opacity=\"1\" stroke-width=\"3.2\"/>\n",
       "<circle clip-path=\"url(#clip002)\" cx=\"205.573\" cy=\"561.61\" r=\"14\" fill=\"#0000ff\" fill-rule=\"evenodd\" fill-opacity=\"1\" stroke=\"#000000\" stroke-opacity=\"1\" stroke-width=\"3.2\"/>\n",
       "<circle clip-path=\"url(#clip002)\" cx=\"481.456\" cy=\"894.186\" r=\"14\" fill=\"#0000ff\" fill-rule=\"evenodd\" fill-opacity=\"1\" stroke=\"#000000\" stroke-opacity=\"1\" stroke-width=\"3.2\"/>\n",
       "<circle clip-path=\"url(#clip002)\" cx=\"361.818\" cy=\"567.06\" r=\"14\" fill=\"#0000ff\" fill-rule=\"evenodd\" fill-opacity=\"1\" stroke=\"#000000\" stroke-opacity=\"1\" stroke-width=\"3.2\"/>\n",
       "<circle clip-path=\"url(#clip002)\" cx=\"396.924\" cy=\"750.441\" r=\"14\" fill=\"#0000ff\" fill-rule=\"evenodd\" fill-opacity=\"1\" stroke=\"#000000\" stroke-opacity=\"1\" stroke-width=\"3.2\"/>\n",
       "<circle clip-path=\"url(#clip002)\" cx=\"275.167\" cy=\"873.163\" r=\"14\" fill=\"#0000ff\" fill-rule=\"evenodd\" fill-opacity=\"1\" stroke=\"#000000\" stroke-opacity=\"1\" stroke-width=\"3.2\"/>\n",
       "<circle clip-path=\"url(#clip002)\" cx=\"275.282\" cy=\"854.881\" r=\"14\" fill=\"#0000ff\" fill-rule=\"evenodd\" fill-opacity=\"1\" stroke=\"#000000\" stroke-opacity=\"1\" stroke-width=\"3.2\"/>\n",
       "<circle clip-path=\"url(#clip002)\" cx=\"561.099\" cy=\"1414.25\" r=\"14\" fill=\"#0000ff\" fill-rule=\"evenodd\" fill-opacity=\"1\" stroke=\"#000000\" stroke-opacity=\"1\" stroke-width=\"3.2\"/>\n",
       "<circle clip-path=\"url(#clip002)\" cx=\"1249.96\" cy=\"1051.36\" r=\"14\" fill=\"#0000ff\" fill-rule=\"evenodd\" fill-opacity=\"1\" stroke=\"#000000\" stroke-opacity=\"1\" stroke-width=\"3.2\"/>\n",
       "<circle clip-path=\"url(#clip002)\" cx=\"1323.89\" cy=\"650.632\" r=\"14\" fill=\"#0000ff\" fill-rule=\"evenodd\" fill-opacity=\"1\" stroke=\"#000000\" stroke-opacity=\"1\" stroke-width=\"3.2\"/>\n",
       "<circle clip-path=\"url(#clip002)\" cx=\"1033.93\" cy=\"930.456\" r=\"14\" fill=\"#0000ff\" fill-rule=\"evenodd\" fill-opacity=\"1\" stroke=\"#000000\" stroke-opacity=\"1\" stroke-width=\"3.2\"/>\n",
       "<circle clip-path=\"url(#clip002)\" cx=\"1143.15\" cy=\"1069.95\" r=\"14\" fill=\"#0000ff\" fill-rule=\"evenodd\" fill-opacity=\"1\" stroke=\"#000000\" stroke-opacity=\"1\" stroke-width=\"3.2\"/>\n",
       "<circle clip-path=\"url(#clip002)\" cx=\"1138.57\" cy=\"1128.76\" r=\"14\" fill=\"#0000ff\" fill-rule=\"evenodd\" fill-opacity=\"1\" stroke=\"#000000\" stroke-opacity=\"1\" stroke-width=\"3.2\"/>\n",
       "<circle clip-path=\"url(#clip002)\" cx=\"1025.12\" cy=\"895.606\" r=\"14\" fill=\"#0000ff\" fill-rule=\"evenodd\" fill-opacity=\"1\" stroke=\"#000000\" stroke-opacity=\"1\" stroke-width=\"3.2\"/>\n",
       "<circle clip-path=\"url(#clip002)\" cx=\"1010.8\" cy=\"941.982\" r=\"14\" fill=\"#0000ff\" fill-rule=\"evenodd\" fill-opacity=\"1\" stroke=\"#000000\" stroke-opacity=\"1\" stroke-width=\"3.2\"/>\n",
       "<circle clip-path=\"url(#clip002)\" cx=\"958.908\" cy=\"902.696\" r=\"14\" fill=\"#0000ff\" fill-rule=\"evenodd\" fill-opacity=\"1\" stroke=\"#000000\" stroke-opacity=\"1\" stroke-width=\"3.2\"/>\n",
       "<circle clip-path=\"url(#clip002)\" cx=\"1307.38\" cy=\"1012.23\" r=\"14\" fill=\"#0000ff\" fill-rule=\"evenodd\" fill-opacity=\"1\" stroke=\"#000000\" stroke-opacity=\"1\" stroke-width=\"3.2\"/>\n",
       "<circle clip-path=\"url(#clip002)\" cx=\"1533.09\" cy=\"1070.23\" r=\"14\" fill=\"#0000ff\" fill-rule=\"evenodd\" fill-opacity=\"1\" stroke=\"#000000\" stroke-opacity=\"1\" stroke-width=\"3.2\"/>\n",
       "<circle clip-path=\"url(#clip002)\" cx=\"1198.67\" cy=\"689.073\" r=\"14\" fill=\"#0000ff\" fill-rule=\"evenodd\" fill-opacity=\"1\" stroke=\"#000000\" stroke-opacity=\"1\" stroke-width=\"3.2\"/>\n",
       "<circle clip-path=\"url(#clip002)\" cx=\"1105.96\" cy=\"997.814\" r=\"14\" fill=\"#0000ff\" fill-rule=\"evenodd\" fill-opacity=\"1\" stroke=\"#000000\" stroke-opacity=\"1\" stroke-width=\"3.2\"/>\n",
       "<circle clip-path=\"url(#clip002)\" cx=\"889.922\" cy=\"854.093\" r=\"14\" fill=\"#0000ff\" fill-rule=\"evenodd\" fill-opacity=\"1\" stroke=\"#000000\" stroke-opacity=\"1\" stroke-width=\"3.2\"/>\n",
       "<circle clip-path=\"url(#clip002)\" cx=\"987.293\" cy=\"1103.31\" r=\"14\" fill=\"#0000ff\" fill-rule=\"evenodd\" fill-opacity=\"1\" stroke=\"#000000\" stroke-opacity=\"1\" stroke-width=\"3.2\"/>\n",
       "<circle clip-path=\"url(#clip002)\" cx=\"885.029\" cy=\"1216.77\" r=\"14\" fill=\"#0000ff\" fill-rule=\"evenodd\" fill-opacity=\"1\" stroke=\"#000000\" stroke-opacity=\"1\" stroke-width=\"3.2\"/>\n",
       "<circle clip-path=\"url(#clip002)\" cx=\"1213.23\" cy=\"640.265\" r=\"14\" fill=\"#0000ff\" fill-rule=\"evenodd\" fill-opacity=\"1\" stroke=\"#000000\" stroke-opacity=\"1\" stroke-width=\"3.2\"/>\n",
       "<circle clip-path=\"url(#clip002)\" cx=\"1137.79\" cy=\"1017.43\" r=\"14\" fill=\"#0000ff\" fill-rule=\"evenodd\" fill-opacity=\"1\" stroke=\"#000000\" stroke-opacity=\"1\" stroke-width=\"3.2\"/>\n",
       "<circle clip-path=\"url(#clip002)\" cx=\"802.357\" cy=\"808.97\" r=\"14\" fill=\"#0000ff\" fill-rule=\"evenodd\" fill-opacity=\"1\" stroke=\"#000000\" stroke-opacity=\"1\" stroke-width=\"3.2\"/>\n",
       "<circle clip-path=\"url(#clip002)\" cx=\"1456.66\" cy=\"917.81\" r=\"14\" fill=\"#0000ff\" fill-rule=\"evenodd\" fill-opacity=\"1\" stroke=\"#000000\" stroke-opacity=\"1\" stroke-width=\"3.2\"/>\n",
       "<circle clip-path=\"url(#clip002)\" cx=\"1208.44\" cy=\"977.483\" r=\"14\" fill=\"#0000ff\" fill-rule=\"evenodd\" fill-opacity=\"1\" stroke=\"#000000\" stroke-opacity=\"1\" stroke-width=\"3.2\"/>\n",
       "</svg>\n"
      ]
     },
     "execution_count": 111,
     "metadata": {},
     "output_type": "execute_result"
    }
   ],
   "source": [
    "Random.seed!(100)\n",
    "\n",
    "T = Float64\n",
    "\n",
    "μ₁ = T[1, 1] \n",
    "Σ₁ = T[2. 0; 0  0.3]\n",
    "\n",
    "μ₂ = T[-1, -1] \n",
    "Σ₂ = T[0.3 0; 0  2]\n",
    "\n",
    "μ₃ = T[2, -1] \n",
    "Σ₃ = T[0.5 0; 0  0.5]\n",
    "\n",
    "function draw(n, μ, Σ)\n",
    "    L = cholesky(Σ).L\n",
    "    [μ + L*randn(T, 2) for i in 1:n] \n",
    "end\n",
    "\n",
    "X₁ = draw(30, μ₁, Σ₁)\n",
    "X₂ = draw(10, μ₂, Σ₂)\n",
    "X₃ = draw(20, μ₃, Σ₃)\n",
    "\n",
    "scatter(getindex.(X₁, 1), getindex.(X₁, 2), color = :blue, legend = false)\n",
    "scatter!(getindex.(X₂, 1), getindex.(X₂, 2), color = :blue)\n",
    "scatter!(getindex.(X₃, 1), getindex.(X₃, 2), color = :blue)"
   ]
  },
  {
   "cell_type": "code",
   "execution_count": 211,
   "metadata": {},
   "outputs": [
    {
     "data": {
      "text/plain": [
       "BayesianModels.NormalDiag{Float64,2}:\n",
       "  μ: BayesParam{ExpFamilyDistributions.NormalDiag{Float64,2},ExpFamilyDistributions.NormalDiag{Float64,2}}\n",
       "  λ: Array{BayesParam{Gamma{Float64},Gamma{Float64}},1}\n"
      ]
     },
     "execution_count": 211,
     "metadata": {},
     "output_type": "execute_result"
    }
   ],
   "source": [
    "model = BayesianModels.NormalDiag(datadim = 2, pstrength = 1)"
   ]
  },
  {
   "cell_type": "code",
   "execution_count": 214,
   "metadata": {},
   "outputs": [
    {
     "data": {
      "image/svg+xml": [
       "<?xml version=\"1.0\" encoding=\"utf-8\"?>\n",
       "<svg xmlns=\"http://www.w3.org/2000/svg\" xmlns:xlink=\"http://www.w3.org/1999/xlink\" width=\"600\" height=\"400\" viewBox=\"0 0 2400 1600\">\n",
       "<defs>\n",
       "  <clipPath id=\"clip520\">\n",
       "    <rect x=\"0\" y=\"0\" width=\"2400\" height=\"1600\"/>\n",
       "  </clipPath>\n",
       "</defs>\n",
       "<path clip-path=\"url(#clip520)\" d=\"\n",
       "M0 1600 L2400 1600 L2400 0 L0 0  Z\n",
       "  \" fill=\"#ffffff\" fill-rule=\"evenodd\" fill-opacity=\"1\"/>\n",
       "<defs>\n",
       "  <clipPath id=\"clip521\">\n",
       "    <rect x=\"480\" y=\"0\" width=\"1681\" height=\"1600\"/>\n",
       "  </clipPath>\n",
       "</defs>\n",
       "<path clip-path=\"url(#clip520)\" d=\"\n",
       "M258.75 1486.45 L2352.76 1486.45 L2352.76 47.2441 L258.75 47.2441  Z\n",
       "  \" fill=\"#ffffff\" fill-rule=\"evenodd\" fill-opacity=\"1\"/>\n",
       "<defs>\n",
       "  <clipPath id=\"clip522\">\n",
       "    <rect x=\"258\" y=\"47\" width=\"2095\" height=\"1440\"/>\n",
       "  </clipPath>\n",
       "</defs>\n",
       "<polyline clip-path=\"url(#clip522)\" style=\"stroke:#000000; stroke-width:2; stroke-opacity:0.1; fill:none\" points=\"\n",
       "  298.26,1486.45 298.26,47.2441 \n",
       "  \"/>\n",
       "<polyline clip-path=\"url(#clip522)\" style=\"stroke:#000000; stroke-width:2; stroke-opacity:0.1; fill:none\" points=\"\n",
       "  792.129,1486.45 792.129,47.2441 \n",
       "  \"/>\n",
       "<polyline clip-path=\"url(#clip522)\" style=\"stroke:#000000; stroke-width:2; stroke-opacity:0.1; fill:none\" points=\"\n",
       "  1286,1486.45 1286,47.2441 \n",
       "  \"/>\n",
       "<polyline clip-path=\"url(#clip522)\" style=\"stroke:#000000; stroke-width:2; stroke-opacity:0.1; fill:none\" points=\"\n",
       "  1779.87,1486.45 1779.87,47.2441 \n",
       "  \"/>\n",
       "<polyline clip-path=\"url(#clip522)\" style=\"stroke:#000000; stroke-width:2; stroke-opacity:0.1; fill:none\" points=\"\n",
       "  2273.74,1486.45 2273.74,47.2441 \n",
       "  \"/>\n",
       "<polyline clip-path=\"url(#clip520)\" style=\"stroke:#000000; stroke-width:4; stroke-opacity:1; fill:none\" points=\"\n",
       "  258.75,1486.45 2352.76,1486.45 \n",
       "  \"/>\n",
       "<polyline clip-path=\"url(#clip520)\" style=\"stroke:#000000; stroke-width:4; stroke-opacity:1; fill:none\" points=\"\n",
       "  298.26,1486.45 298.26,1469.18 \n",
       "  \"/>\n",
       "<polyline clip-path=\"url(#clip520)\" style=\"stroke:#000000; stroke-width:4; stroke-opacity:1; fill:none\" points=\"\n",
       "  792.129,1486.45 792.129,1469.18 \n",
       "  \"/>\n",
       "<polyline clip-path=\"url(#clip520)\" style=\"stroke:#000000; stroke-width:4; stroke-opacity:1; fill:none\" points=\"\n",
       "  1286,1486.45 1286,1469.18 \n",
       "  \"/>\n",
       "<polyline clip-path=\"url(#clip520)\" style=\"stroke:#000000; stroke-width:4; stroke-opacity:1; fill:none\" points=\"\n",
       "  1779.87,1486.45 1779.87,1469.18 \n",
       "  \"/>\n",
       "<polyline clip-path=\"url(#clip520)\" style=\"stroke:#000000; stroke-width:4; stroke-opacity:1; fill:none\" points=\"\n",
       "  2273.74,1486.45 2273.74,1469.18 \n",
       "  \"/>\n",
       "<path clip-path=\"url(#clip520)\" d=\"M 0 0 M298.26 1515.64 Q294.649 1515.64 292.82 1519.2 Q291.015 1522.75 291.015 1529.87 Q291.015 1536.98 292.82 1540.55 Q294.649 1544.09 298.26 1544.09 Q301.894 1544.09 303.7 1540.55 Q305.528 1536.98 305.528 1529.87 Q305.528 1522.75 303.7 1519.2 Q301.894 1515.64 298.26 1515.64 M298.26 1511.93 Q304.07 1511.93 307.126 1516.54 Q310.204 1521.12 310.204 1529.87 Q310.204 1538.6 307.126 1543.21 Q304.07 1547.79 298.26 1547.79 Q292.45 1547.79 289.371 1543.21 Q286.316 1538.6 286.316 1529.87 Q286.316 1521.12 289.371 1516.54 Q292.45 1511.93 298.26 1511.93 Z\" fill=\"#000000\" fill-rule=\"evenodd\" fill-opacity=\"1\" /><path clip-path=\"url(#clip520)\" d=\"M 0 0 M773.773 1543.18 L790.092 1543.18 L790.092 1547.12 L768.148 1547.12 L768.148 1543.18 Q770.81 1540.43 775.393 1535.8 Q780 1531.15 781.18 1529.81 Q783.426 1527.28 784.305 1525.55 Q785.208 1523.79 785.208 1522.1 Q785.208 1519.34 783.264 1517.61 Q781.342 1515.87 778.24 1515.87 Q776.041 1515.87 773.588 1516.63 Q771.157 1517.4 768.379 1518.95 L768.379 1514.23 Q771.203 1513.09 773.657 1512.51 Q776.111 1511.93 778.148 1511.93 Q783.518 1511.93 786.713 1514.62 Q789.907 1517.31 789.907 1521.8 Q789.907 1523.93 789.097 1525.85 Q788.31 1527.74 786.203 1530.34 Q785.625 1531.01 782.523 1534.23 Q779.421 1537.42 773.773 1543.18 Z\" fill=\"#000000\" fill-rule=\"evenodd\" fill-opacity=\"1\" /><path clip-path=\"url(#clip520)\" d=\"M 0 0 M795.208 1512.56 L813.564 1512.56 L813.564 1516.5 L799.49 1516.5 L799.49 1524.97 Q800.509 1524.62 801.527 1524.46 Q802.546 1524.27 803.564 1524.27 Q809.351 1524.27 812.731 1527.44 Q816.111 1530.62 816.111 1536.03 Q816.111 1541.61 812.638 1544.71 Q809.166 1547.79 802.847 1547.79 Q800.671 1547.79 798.402 1547.42 Q796.157 1547.05 793.75 1546.31 L793.75 1541.61 Q795.833 1542.74 798.055 1543.3 Q800.277 1543.86 802.754 1543.86 Q806.759 1543.86 809.097 1541.75 Q811.435 1539.64 811.435 1536.03 Q811.435 1532.42 809.097 1530.31 Q806.759 1528.21 802.754 1528.21 Q800.879 1528.21 799.004 1528.62 Q797.152 1529.04 795.208 1529.92 L795.208 1512.56 Z\" fill=\"#000000\" fill-rule=\"evenodd\" fill-opacity=\"1\" /><path clip-path=\"url(#clip520)\" d=\"M 0 0 M1262.77 1512.56 L1281.13 1512.56 L1281.13 1516.5 L1267.05 1516.5 L1267.05 1524.97 Q1268.07 1524.62 1269.09 1524.46 Q1270.11 1524.27 1271.13 1524.27 Q1276.91 1524.27 1280.29 1527.44 Q1283.67 1530.62 1283.67 1536.03 Q1283.67 1541.61 1280.2 1544.71 Q1276.73 1547.79 1270.41 1547.79 Q1268.23 1547.79 1265.96 1547.42 Q1263.72 1547.05 1261.31 1546.31 L1261.31 1541.61 Q1263.39 1542.74 1265.62 1543.3 Q1267.84 1543.86 1270.32 1543.86 Q1274.32 1543.86 1276.66 1541.75 Q1279 1539.64 1279 1536.03 Q1279 1532.42 1276.66 1530.31 Q1274.32 1528.21 1270.32 1528.21 Q1268.44 1528.21 1266.57 1528.62 Q1264.71 1529.04 1262.77 1529.92 L1262.77 1512.56 Z\" fill=\"#000000\" fill-rule=\"evenodd\" fill-opacity=\"1\" /><path clip-path=\"url(#clip520)\" d=\"M 0 0 M1298.74 1515.64 Q1295.13 1515.64 1293.3 1519.2 Q1291.5 1522.75 1291.5 1529.87 Q1291.5 1536.98 1293.3 1540.55 Q1295.13 1544.09 1298.74 1544.09 Q1302.38 1544.09 1304.18 1540.55 Q1306.01 1536.98 1306.01 1529.87 Q1306.01 1522.75 1304.18 1519.2 Q1302.38 1515.64 1298.74 1515.64 M1298.74 1511.93 Q1304.55 1511.93 1307.61 1516.54 Q1310.69 1521.12 1310.69 1529.87 Q1310.69 1538.6 1307.61 1543.21 Q1304.55 1547.79 1298.74 1547.79 Q1292.93 1547.79 1289.85 1543.21 Q1286.8 1538.6 1286.8 1529.87 Q1286.8 1521.12 1289.85 1516.54 Q1292.93 1511.93 1298.74 1511.93 Z\" fill=\"#000000\" fill-rule=\"evenodd\" fill-opacity=\"1\" /><path clip-path=\"url(#clip520)\" d=\"M 0 0 M1755.75 1512.56 L1777.97 1512.56 L1777.97 1514.55 L1765.42 1547.12 L1760.54 1547.12 L1772.34 1516.5 L1755.75 1516.5 L1755.75 1512.56 Z\" fill=\"#000000\" fill-rule=\"evenodd\" fill-opacity=\"1\" /><path clip-path=\"url(#clip520)\" d=\"M 0 0 M1783.09 1512.56 L1801.44 1512.56 L1801.44 1516.5 L1787.37 1516.5 L1787.37 1524.97 Q1788.39 1524.62 1789.4 1524.46 Q1790.42 1524.27 1791.44 1524.27 Q1797.23 1524.27 1800.61 1527.44 Q1803.99 1530.62 1803.99 1536.03 Q1803.99 1541.61 1800.52 1544.71 Q1797.04 1547.79 1790.72 1547.79 Q1788.55 1547.79 1786.28 1547.42 Q1784.03 1547.05 1781.63 1546.31 L1781.63 1541.61 Q1783.71 1542.74 1785.93 1543.3 Q1788.15 1543.86 1790.63 1543.86 Q1794.64 1543.86 1796.97 1541.75 Q1799.31 1539.64 1799.31 1536.03 Q1799.31 1532.42 1796.97 1530.31 Q1794.64 1528.21 1790.63 1528.21 Q1788.76 1528.21 1786.88 1528.62 Q1785.03 1529.04 1783.09 1529.92 L1783.09 1512.56 Z\" fill=\"#000000\" fill-rule=\"evenodd\" fill-opacity=\"1\" /><path clip-path=\"url(#clip520)\" d=\"M 0 0 M2237.11 1543.18 L2244.74 1543.18 L2244.74 1516.82 L2236.43 1518.49 L2236.43 1514.23 L2244.7 1512.56 L2249.37 1512.56 L2249.37 1543.18 L2257.01 1543.18 L2257.01 1547.12 L2237.11 1547.12 L2237.11 1543.18 Z\" fill=\"#000000\" fill-rule=\"evenodd\" fill-opacity=\"1\" /><path clip-path=\"url(#clip520)\" d=\"M 0 0 M2272.08 1515.64 Q2268.47 1515.64 2266.64 1519.2 Q2264.84 1522.75 2264.84 1529.87 Q2264.84 1536.98 2266.64 1540.55 Q2268.47 1544.09 2272.08 1544.09 Q2275.72 1544.09 2277.52 1540.55 Q2279.35 1536.98 2279.35 1529.87 Q2279.35 1522.75 2277.52 1519.2 Q2275.72 1515.64 2272.08 1515.64 M2272.08 1511.93 Q2277.89 1511.93 2280.95 1516.54 Q2284.03 1521.12 2284.03 1529.87 Q2284.03 1538.6 2280.95 1543.21 Q2277.89 1547.79 2272.08 1547.79 Q2266.27 1547.79 2263.19 1543.21 Q2260.14 1538.6 2260.14 1529.87 Q2260.14 1521.12 2263.19 1516.54 Q2266.27 1511.93 2272.08 1511.93 Z\" fill=\"#000000\" fill-rule=\"evenodd\" fill-opacity=\"1\" /><path clip-path=\"url(#clip520)\" d=\"M 0 0 M2299.1 1515.64 Q2295.48 1515.64 2293.66 1519.2 Q2291.85 1522.75 2291.85 1529.87 Q2291.85 1536.98 2293.66 1540.55 Q2295.48 1544.09 2299.1 1544.09 Q2302.73 1544.09 2304.54 1540.55 Q2306.36 1536.98 2306.36 1529.87 Q2306.36 1522.75 2304.54 1519.2 Q2302.73 1515.64 2299.1 1515.64 M2299.1 1511.93 Q2304.91 1511.93 2307.96 1516.54 Q2311.04 1521.12 2311.04 1529.87 Q2311.04 1538.6 2307.96 1543.21 Q2304.91 1547.79 2299.1 1547.79 Q2293.29 1547.79 2290.21 1543.21 Q2287.15 1538.6 2287.15 1529.87 Q2287.15 1521.12 2290.21 1516.54 Q2293.29 1511.93 2299.1 1511.93 Z\" fill=\"#000000\" fill-rule=\"evenodd\" fill-opacity=\"1\" /><polyline clip-path=\"url(#clip522)\" style=\"stroke:#000000; stroke-width:2; stroke-opacity:0.1; fill:none\" points=\"\n",
       "  258.75,1299.8 2352.76,1299.8 \n",
       "  \"/>\n",
       "<polyline clip-path=\"url(#clip522)\" style=\"stroke:#000000; stroke-width:2; stroke-opacity:0.1; fill:none\" points=\"\n",
       "  258.75,1106.57 2352.76,1106.57 \n",
       "  \"/>\n",
       "<polyline clip-path=\"url(#clip522)\" style=\"stroke:#000000; stroke-width:2; stroke-opacity:0.1; fill:none\" points=\"\n",
       "  258.75,913.354 2352.76,913.354 \n",
       "  \"/>\n",
       "<polyline clip-path=\"url(#clip522)\" style=\"stroke:#000000; stroke-width:2; stroke-opacity:0.1; fill:none\" points=\"\n",
       "  258.75,720.133 2352.76,720.133 \n",
       "  \"/>\n",
       "<polyline clip-path=\"url(#clip522)\" style=\"stroke:#000000; stroke-width:2; stroke-opacity:0.1; fill:none\" points=\"\n",
       "  258.75,526.912 2352.76,526.912 \n",
       "  \"/>\n",
       "<polyline clip-path=\"url(#clip522)\" style=\"stroke:#000000; stroke-width:2; stroke-opacity:0.1; fill:none\" points=\"\n",
       "  258.75,333.691 2352.76,333.691 \n",
       "  \"/>\n",
       "<polyline clip-path=\"url(#clip522)\" style=\"stroke:#000000; stroke-width:2; stroke-opacity:0.1; fill:none\" points=\"\n",
       "  258.75,140.47 2352.76,140.47 \n",
       "  \"/>\n",
       "<polyline clip-path=\"url(#clip520)\" style=\"stroke:#000000; stroke-width:4; stroke-opacity:1; fill:none\" points=\"\n",
       "  258.75,1486.45 258.75,47.2441 \n",
       "  \"/>\n",
       "<polyline clip-path=\"url(#clip520)\" style=\"stroke:#000000; stroke-width:4; stroke-opacity:1; fill:none\" points=\"\n",
       "  258.75,1299.8 283.879,1299.8 \n",
       "  \"/>\n",
       "<polyline clip-path=\"url(#clip520)\" style=\"stroke:#000000; stroke-width:4; stroke-opacity:1; fill:none\" points=\"\n",
       "  258.75,1106.57 283.879,1106.57 \n",
       "  \"/>\n",
       "<polyline clip-path=\"url(#clip520)\" style=\"stroke:#000000; stroke-width:4; stroke-opacity:1; fill:none\" points=\"\n",
       "  258.75,913.354 283.879,913.354 \n",
       "  \"/>\n",
       "<polyline clip-path=\"url(#clip520)\" style=\"stroke:#000000; stroke-width:4; stroke-opacity:1; fill:none\" points=\"\n",
       "  258.75,720.133 283.879,720.133 \n",
       "  \"/>\n",
       "<polyline clip-path=\"url(#clip520)\" style=\"stroke:#000000; stroke-width:4; stroke-opacity:1; fill:none\" points=\"\n",
       "  258.75,526.912 283.879,526.912 \n",
       "  \"/>\n",
       "<polyline clip-path=\"url(#clip520)\" style=\"stroke:#000000; stroke-width:4; stroke-opacity:1; fill:none\" points=\"\n",
       "  258.75,333.691 283.879,333.691 \n",
       "  \"/>\n",
       "<polyline clip-path=\"url(#clip520)\" style=\"stroke:#000000; stroke-width:4; stroke-opacity:1; fill:none\" points=\"\n",
       "  258.75,140.47 283.879,140.47 \n",
       "  \"/>\n",
       "<path clip-path=\"url(#clip520)\" d=\"M 0 0 M51.2931 1300.25 L80.9688 1300.25 L80.9688 1304.18 L51.2931 1304.18 L51.2931 1300.25 Z\" fill=\"#000000\" fill-rule=\"evenodd\" fill-opacity=\"1\" /><path clip-path=\"url(#clip520)\" d=\"M 0 0 M90.066 1313.14 L106.385 1313.14 L106.385 1317.08 L84.441 1317.08 L84.441 1313.14 Q87.103 1310.39 91.6864 1305.76 Q96.2928 1301.1 97.4734 1299.76 Q99.7187 1297.24 100.598 1295.5 Q101.501 1293.74 101.501 1292.05 Q101.501 1289.3 99.5567 1287.56 Q97.6354 1285.83 94.5336 1285.83 Q92.3345 1285.83 89.8808 1286.59 Q87.4503 1287.35 84.6725 1288.9 L84.6725 1284.18 Q87.4966 1283.05 89.9503 1282.47 Q92.4039 1281.89 94.441 1281.89 Q99.8113 1281.89 103.006 1284.58 Q106.2 1287.26 106.2 1291.75 Q106.2 1293.88 105.39 1295.8 Q104.603 1297.7 102.496 1300.29 Q101.918 1300.96 98.8159 1304.18 Q95.7141 1307.38 90.066 1313.14 Z\" fill=\"#000000\" fill-rule=\"evenodd\" fill-opacity=\"1\" /><path clip-path=\"url(#clip520)\" d=\"M 0 0 M112.265 1313.14 L119.904 1313.14 L119.904 1286.77 L111.594 1288.44 L111.594 1284.18 L119.857 1282.52 L124.533 1282.52 L124.533 1313.14 L132.172 1313.14 L132.172 1317.08 L112.265 1317.08 L112.265 1313.14 Z\" fill=\"#000000\" fill-rule=\"evenodd\" fill-opacity=\"1\" /><path clip-path=\"url(#clip520)\" d=\"M 0 0 M136.061 1282.52 L158.283 1282.52 L158.283 1284.51 L145.737 1317.08 L140.853 1317.08 L152.658 1286.45 L136.061 1286.45 L136.061 1282.52 Z\" fill=\"#000000\" fill-rule=\"evenodd\" fill-opacity=\"1\" /><path clip-path=\"url(#clip520)\" d=\"M 0 0 M163.353 1311.2 L168.237 1311.2 L168.237 1317.08 L163.353 1317.08 L163.353 1311.2 Z\" fill=\"#000000\" fill-rule=\"evenodd\" fill-opacity=\"1\" /><path clip-path=\"url(#clip520)\" d=\"M 0 0 M183.306 1285.59 Q179.695 1285.59 177.866 1289.16 Q176.061 1292.7 176.061 1299.83 Q176.061 1306.94 177.866 1310.5 Q179.695 1314.04 183.306 1314.04 Q186.94 1314.04 188.746 1310.5 Q190.575 1306.94 190.575 1299.83 Q190.575 1292.7 188.746 1289.16 Q186.94 1285.59 183.306 1285.59 M183.306 1281.89 Q189.116 1281.89 192.172 1286.5 Q195.251 1291.08 195.251 1299.83 Q195.251 1308.56 192.172 1313.16 Q189.116 1317.75 183.306 1317.75 Q177.496 1317.75 174.417 1313.16 Q171.362 1308.56 171.362 1299.83 Q171.362 1291.08 174.417 1286.5 Q177.496 1281.89 183.306 1281.89 Z\" fill=\"#000000\" fill-rule=\"evenodd\" fill-opacity=\"1\" /><path clip-path=\"url(#clip520)\" d=\"M 0 0 M213.167 1286.59 L201.362 1305.04 L213.167 1305.04 L213.167 1286.59 M211.94 1282.52 L217.82 1282.52 L217.82 1305.04 L222.75 1305.04 L222.75 1308.93 L217.82 1308.93 L217.82 1317.08 L213.167 1317.08 L213.167 1308.93 L197.565 1308.93 L197.565 1304.41 L211.94 1282.52 Z\" fill=\"#000000\" fill-rule=\"evenodd\" fill-opacity=\"1\" /><path clip-path=\"url(#clip520)\" d=\"M 0 0 M52.4273 1107.03 L82.1031 1107.03 L82.1031 1110.96 L52.4273 1110.96 L52.4273 1107.03 Z\" fill=\"#000000\" fill-rule=\"evenodd\" fill-opacity=\"1\" /><path clip-path=\"url(#clip520)\" d=\"M 0 0 M91.2002 1119.92 L107.52 1119.92 L107.52 1123.85 L85.5753 1123.85 L85.5753 1119.92 Q88.2373 1117.16 92.8206 1112.54 Q97.4271 1107.88 98.6076 1106.54 Q100.853 1104.02 101.733 1102.28 Q102.635 1100.52 102.635 1098.83 Q102.635 1096.08 100.691 1094.34 Q98.7696 1092.6 95.6678 1092.6 Q93.4688 1092.6 91.0151 1093.37 Q88.5845 1094.13 85.8068 1095.68 L85.8068 1090.96 Q88.6308 1089.83 91.0845 1089.25 Q93.5382 1088.67 95.5752 1088.67 Q100.946 1088.67 104.14 1091.35 Q107.334 1094.04 107.334 1098.53 Q107.334 1100.66 106.524 1102.58 Q105.737 1104.48 103.631 1107.07 Q103.052 1107.74 99.9502 1110.96 Q96.8484 1114.16 91.2002 1119.92 Z\" fill=\"#000000\" fill-rule=\"evenodd\" fill-opacity=\"1\" /><path clip-path=\"url(#clip520)\" d=\"M 0 0 M113.399 1119.92 L121.038 1119.92 L121.038 1093.55 L112.728 1095.22 L112.728 1090.96 L120.992 1089.29 L125.668 1089.29 L125.668 1119.92 L133.306 1119.92 L133.306 1123.85 L113.399 1123.85 L113.399 1119.92 Z\" fill=\"#000000\" fill-rule=\"evenodd\" fill-opacity=\"1\" /><path clip-path=\"url(#clip520)\" d=\"M 0 0 M137.195 1089.29 L159.417 1089.29 L159.417 1091.29 L146.871 1123.85 L141.987 1123.85 L153.793 1093.23 L137.195 1093.23 L137.195 1089.29 Z\" fill=\"#000000\" fill-rule=\"evenodd\" fill-opacity=\"1\" /><path clip-path=\"url(#clip520)\" d=\"M 0 0 M164.487 1117.98 L169.371 1117.98 L169.371 1123.85 L164.487 1123.85 L164.487 1117.98 Z\" fill=\"#000000\" fill-rule=\"evenodd\" fill-opacity=\"1\" /><path clip-path=\"url(#clip520)\" d=\"M 0 0 M184.44 1092.37 Q180.829 1092.37 179.001 1095.94 Q177.195 1099.48 177.195 1106.61 Q177.195 1113.72 179.001 1117.28 Q180.829 1120.82 184.44 1120.82 Q188.075 1120.82 189.88 1117.28 Q191.709 1113.72 191.709 1106.61 Q191.709 1099.48 189.88 1095.94 Q188.075 1092.37 184.44 1092.37 M184.44 1088.67 Q190.251 1088.67 193.306 1093.28 Q196.385 1097.86 196.385 1106.61 Q196.385 1115.34 193.306 1119.94 Q190.251 1124.53 184.44 1124.53 Q178.63 1124.53 175.552 1119.94 Q172.496 1115.34 172.496 1106.61 Q172.496 1097.86 175.552 1093.28 Q178.63 1088.67 184.44 1088.67 Z\" fill=\"#000000\" fill-rule=\"evenodd\" fill-opacity=\"1\" /><path clip-path=\"url(#clip520)\" d=\"M 0 0 M215.621 1105.22 Q218.977 1105.94 220.852 1108.21 Q222.75 1110.48 222.75 1113.81 Q222.75 1118.92 219.232 1121.73 Q215.713 1124.53 209.232 1124.53 Q207.056 1124.53 204.741 1124.09 Q202.45 1123.67 199.996 1122.81 L199.996 1118.3 Q201.94 1119.43 204.255 1120.01 Q206.57 1120.59 209.093 1120.59 Q213.491 1120.59 215.783 1118.85 Q218.098 1117.12 218.098 1113.81 Q218.098 1110.75 215.945 1109.04 Q213.815 1107.3 209.996 1107.3 L205.968 1107.3 L205.968 1103.46 L210.181 1103.46 Q213.63 1103.46 215.459 1102.1 Q217.288 1100.71 217.288 1098.11 Q217.288 1095.45 215.389 1094.04 Q213.514 1092.6 209.996 1092.6 Q208.075 1092.6 205.876 1093.02 Q203.676 1093.44 201.038 1094.32 L201.038 1090.15 Q203.7 1089.41 206.014 1089.04 Q208.352 1088.67 210.413 1088.67 Q215.737 1088.67 218.838 1091.1 Q221.94 1093.51 221.94 1097.63 Q221.94 1100.5 220.297 1102.49 Q218.653 1104.46 215.621 1105.22 Z\" fill=\"#000000\" fill-rule=\"evenodd\" fill-opacity=\"1\" /><path clip-path=\"url(#clip520)\" d=\"M 0 0 M53.3764 913.805 L83.0521 913.805 L83.0521 917.74 L53.3764 917.74 L53.3764 913.805 Z\" fill=\"#000000\" fill-rule=\"evenodd\" fill-opacity=\"1\" /><path clip-path=\"url(#clip520)\" d=\"M 0 0 M92.1493 926.699 L108.469 926.699 L108.469 930.634 L86.5243 930.634 L86.5243 926.699 Q89.1864 923.944 93.7697 919.314 Q98.3761 914.662 99.5567 913.319 Q101.802 910.796 102.682 909.06 Q103.584 907.301 103.584 905.611 Q103.584 902.856 101.64 901.12 Q99.7187 899.384 96.6169 899.384 Q94.4178 899.384 91.9641 900.148 Q89.5336 900.912 86.7558 902.463 L86.7558 897.74 Q89.5799 896.606 92.0336 896.027 Q94.4873 895.449 96.5243 895.449 Q101.895 895.449 105.089 898.134 Q108.283 900.819 108.283 905.31 Q108.283 907.439 107.473 909.361 Q106.686 911.259 104.58 913.851 Q104.001 914.523 100.899 917.74 Q97.7974 920.935 92.1493 926.699 Z\" fill=\"#000000\" fill-rule=\"evenodd\" fill-opacity=\"1\" /><path clip-path=\"url(#clip520)\" d=\"M 0 0 M114.348 926.699 L121.987 926.699 L121.987 900.333 L113.677 902 L113.677 897.74 L121.941 896.074 L126.617 896.074 L126.617 926.699 L134.256 926.699 L134.256 930.634 L114.348 930.634 L114.348 926.699 Z\" fill=\"#000000\" fill-rule=\"evenodd\" fill-opacity=\"1\" /><path clip-path=\"url(#clip520)\" d=\"M 0 0 M138.144 896.074 L160.367 896.074 L160.367 898.065 L147.82 930.634 L142.936 930.634 L154.742 900.009 L138.144 900.009 L138.144 896.074 Z\" fill=\"#000000\" fill-rule=\"evenodd\" fill-opacity=\"1\" /><path clip-path=\"url(#clip520)\" d=\"M 0 0 M165.436 924.754 L170.32 924.754 L170.32 930.634 L165.436 930.634 L165.436 924.754 Z\" fill=\"#000000\" fill-rule=\"evenodd\" fill-opacity=\"1\" /><path clip-path=\"url(#clip520)\" d=\"M 0 0 M185.39 899.152 Q181.778 899.152 179.95 902.717 Q178.144 906.259 178.144 913.389 Q178.144 920.495 179.95 924.06 Q181.778 927.601 185.39 927.601 Q189.024 927.601 190.829 924.06 Q192.658 920.495 192.658 913.389 Q192.658 906.259 190.829 902.717 Q189.024 899.152 185.39 899.152 M185.39 895.449 Q191.2 895.449 194.255 900.055 Q197.334 904.639 197.334 913.389 Q197.334 922.115 194.255 926.722 Q191.2 931.305 185.39 931.305 Q179.579 931.305 176.501 926.722 Q173.445 922.115 173.445 913.389 Q173.445 904.639 176.501 900.055 Q179.579 895.449 185.39 895.449 Z\" fill=\"#000000\" fill-rule=\"evenodd\" fill-opacity=\"1\" /><path clip-path=\"url(#clip520)\" d=\"M 0 0 M206.431 926.699 L222.75 926.699 L222.75 930.634 L200.806 930.634 L200.806 926.699 Q203.468 923.944 208.051 919.314 Q212.658 914.662 213.838 913.319 Q216.084 910.796 216.963 909.06 Q217.866 907.301 217.866 905.611 Q217.866 902.856 215.922 901.12 Q214.001 899.384 210.899 899.384 Q208.7 899.384 206.246 900.148 Q203.815 900.912 201.038 902.463 L201.038 897.74 Q203.862 896.606 206.315 896.027 Q208.769 895.449 210.806 895.449 Q216.176 895.449 219.371 898.134 Q222.565 900.819 222.565 905.31 Q222.565 907.439 221.755 909.361 Q220.968 911.259 218.862 913.851 Q218.283 914.523 215.181 917.74 Q212.079 920.935 206.431 926.699 Z\" fill=\"#000000\" fill-rule=\"evenodd\" fill-opacity=\"1\" /><path clip-path=\"url(#clip520)\" d=\"M 0 0 M53.006 720.584 L82.6818 720.584 L82.6818 724.519 L53.006 724.519 L53.006 720.584 Z\" fill=\"#000000\" fill-rule=\"evenodd\" fill-opacity=\"1\" /><path clip-path=\"url(#clip520)\" d=\"M 0 0 M91.7789 733.478 L108.098 733.478 L108.098 737.413 L86.154 737.413 L86.154 733.478 Q88.816 730.723 93.3993 726.093 Q98.0058 721.441 99.1863 720.098 Q101.432 717.575 102.311 715.839 Q103.214 714.08 103.214 712.39 Q103.214 709.635 101.27 707.899 Q99.3483 706.163 96.2465 706.163 Q94.0475 706.163 91.5938 706.927 Q89.1632 707.691 86.3855 709.242 L86.3855 704.52 Q89.2095 703.385 91.6632 702.807 Q94.1169 702.228 96.1539 702.228 Q101.524 702.228 104.719 704.913 Q107.913 707.598 107.913 712.089 Q107.913 714.219 107.103 716.14 Q106.316 718.038 104.209 720.631 Q103.631 721.302 100.529 724.519 Q97.4271 727.714 91.7789 733.478 Z\" fill=\"#000000\" fill-rule=\"evenodd\" fill-opacity=\"1\" /><path clip-path=\"url(#clip520)\" d=\"M 0 0 M113.978 733.478 L121.617 733.478 L121.617 707.112 L113.307 708.779 L113.307 704.52 L121.57 702.853 L126.246 702.853 L126.246 733.478 L133.885 733.478 L133.885 737.413 L113.978 737.413 L113.978 733.478 Z\" fill=\"#000000\" fill-rule=\"evenodd\" fill-opacity=\"1\" /><path clip-path=\"url(#clip520)\" d=\"M 0 0 M137.774 702.853 L159.996 702.853 L159.996 704.844 L147.45 737.413 L142.566 737.413 L154.371 706.788 L137.774 706.788 L137.774 702.853 Z\" fill=\"#000000\" fill-rule=\"evenodd\" fill-opacity=\"1\" /><path clip-path=\"url(#clip520)\" d=\"M 0 0 M165.066 731.533 L169.95 731.533 L169.95 737.413 L165.066 737.413 L165.066 731.533 Z\" fill=\"#000000\" fill-rule=\"evenodd\" fill-opacity=\"1\" /><path clip-path=\"url(#clip520)\" d=\"M 0 0 M185.019 705.932 Q181.408 705.932 179.579 709.496 Q177.774 713.038 177.774 720.168 Q177.774 727.274 179.579 730.839 Q181.408 734.38 185.019 734.38 Q188.653 734.38 190.459 730.839 Q192.288 727.274 192.288 720.168 Q192.288 713.038 190.459 709.496 Q188.653 705.932 185.019 705.932 M185.019 702.228 Q190.829 702.228 193.885 706.834 Q196.964 711.418 196.964 720.168 Q196.964 728.894 193.885 733.501 Q190.829 738.084 185.019 738.084 Q179.209 738.084 176.13 733.501 Q173.075 728.894 173.075 720.168 Q173.075 711.418 176.13 706.834 Q179.209 702.228 185.019 702.228 Z\" fill=\"#000000\" fill-rule=\"evenodd\" fill-opacity=\"1\" /><path clip-path=\"url(#clip520)\" d=\"M 0 0 M202.843 733.478 L210.482 733.478 L210.482 707.112 L202.172 708.779 L202.172 704.52 L210.436 702.853 L215.112 702.853 L215.112 733.478 L222.75 733.478 L222.75 737.413 L202.843 737.413 L202.843 733.478 Z\" fill=\"#000000\" fill-rule=\"evenodd\" fill-opacity=\"1\" /><path clip-path=\"url(#clip520)\" d=\"M 0 0 M51.7792 527.363 L81.4549 527.363 L81.4549 531.299 L51.7792 531.299 L51.7792 527.363 Z\" fill=\"#000000\" fill-rule=\"evenodd\" fill-opacity=\"1\" /><path clip-path=\"url(#clip520)\" d=\"M 0 0 M90.5521 540.257 L106.871 540.257 L106.871 544.192 L84.9271 544.192 L84.9271 540.257 Q87.5892 537.502 92.1725 532.873 Q96.7789 528.22 97.9595 526.877 Q100.205 524.354 101.084 522.618 Q101.987 520.859 101.987 519.169 Q101.987 516.414 100.043 514.678 Q98.1215 512.942 95.0197 512.942 Q92.8206 512.942 90.3669 513.706 Q87.9364 514.47 85.1586 516.021 L85.1586 511.299 Q87.9827 510.164 90.4364 509.586 Q92.89 509.007 94.9271 509.007 Q100.297 509.007 103.492 511.692 Q106.686 514.377 106.686 518.868 Q106.686 520.998 105.876 522.919 Q105.089 524.817 102.983 527.41 Q102.404 528.081 99.3021 531.299 Q96.2002 534.493 90.5521 540.257 Z\" fill=\"#000000\" fill-rule=\"evenodd\" fill-opacity=\"1\" /><path clip-path=\"url(#clip520)\" d=\"M 0 0 M112.751 540.257 L120.39 540.257 L120.39 513.891 L112.08 515.558 L112.08 511.299 L120.344 509.632 L125.02 509.632 L125.02 540.257 L132.658 540.257 L132.658 544.192 L112.751 544.192 L112.751 540.257 Z\" fill=\"#000000\" fill-rule=\"evenodd\" fill-opacity=\"1\" /><path clip-path=\"url(#clip520)\" d=\"M 0 0 M136.547 509.632 L158.769 509.632 L158.769 511.623 L146.223 544.192 L141.339 544.192 L153.144 513.567 L136.547 513.567 L136.547 509.632 Z\" fill=\"#000000\" fill-rule=\"evenodd\" fill-opacity=\"1\" /><path clip-path=\"url(#clip520)\" d=\"M 0 0 M163.839 538.312 L168.723 538.312 L168.723 544.192 L163.839 544.192 L163.839 538.312 Z\" fill=\"#000000\" fill-rule=\"evenodd\" fill-opacity=\"1\" /><path clip-path=\"url(#clip520)\" d=\"M 0 0 M183.792 512.711 Q180.181 512.711 178.353 516.275 Q176.547 519.817 176.547 526.947 Q176.547 534.053 178.353 537.618 Q180.181 541.16 183.792 541.16 Q187.427 541.16 189.232 537.618 Q191.061 534.053 191.061 526.947 Q191.061 519.817 189.232 516.275 Q187.427 512.711 183.792 512.711 M183.792 509.007 Q189.602 509.007 192.658 513.613 Q195.737 518.197 195.737 526.947 Q195.737 535.673 192.658 540.28 Q189.602 544.863 183.792 544.863 Q177.982 544.863 174.903 540.28 Q171.848 535.673 171.848 526.947 Q171.848 518.197 174.903 513.613 Q177.982 509.007 183.792 509.007 Z\" fill=\"#000000\" fill-rule=\"evenodd\" fill-opacity=\"1\" /><path clip-path=\"url(#clip520)\" d=\"M 0 0 M210.806 512.711 Q207.195 512.711 205.366 516.275 Q203.561 519.817 203.561 526.947 Q203.561 534.053 205.366 537.618 Q207.195 541.16 210.806 541.16 Q214.44 541.16 216.246 537.618 Q218.075 534.053 218.075 526.947 Q218.075 519.817 216.246 516.275 Q214.44 512.711 210.806 512.711 M210.806 509.007 Q216.616 509.007 219.672 513.613 Q222.75 518.197 222.75 526.947 Q222.75 535.673 219.672 540.28 Q216.616 544.863 210.806 544.863 Q204.996 544.863 201.917 540.28 Q198.862 535.673 198.862 526.947 Q198.862 518.197 201.917 513.613 Q204.996 509.007 210.806 509.007 Z\" fill=\"#000000\" fill-rule=\"evenodd\" fill-opacity=\"1\" /><path clip-path=\"url(#clip520)\" d=\"M 0 0 M51.0847 334.142 L80.7605 334.142 L80.7605 338.078 L51.0847 338.078 L51.0847 334.142 Z\" fill=\"#000000\" fill-rule=\"evenodd\" fill-opacity=\"1\" /><path clip-path=\"url(#clip520)\" d=\"M 0 0 M89.8577 347.036 L106.177 347.036 L106.177 350.971 L84.2327 350.971 L84.2327 347.036 Q86.8947 344.281 91.478 339.652 Q96.0845 334.999 97.265 333.656 Q99.5104 331.133 100.39 329.397 Q101.293 327.638 101.293 325.948 Q101.293 323.193 99.3483 321.457 Q97.4271 319.721 94.3252 319.721 Q92.1262 319.721 89.6725 320.485 Q87.2419 321.249 84.4642 322.8 L84.4642 318.078 Q87.2882 316.943 89.7419 316.365 Q92.1956 315.786 94.2326 315.786 Q99.603 315.786 102.797 318.471 Q105.992 321.156 105.992 325.647 Q105.992 327.777 105.182 329.698 Q104.395 331.596 102.288 334.189 Q101.709 334.86 98.6076 338.078 Q95.5058 341.272 89.8577 347.036 Z\" fill=\"#000000\" fill-rule=\"evenodd\" fill-opacity=\"1\" /><path clip-path=\"url(#clip520)\" d=\"M 0 0 M112.057 347.036 L119.695 347.036 L119.695 320.67 L111.385 322.337 L111.385 318.078 L119.649 316.411 L124.325 316.411 L124.325 347.036 L131.964 347.036 L131.964 350.971 L112.057 350.971 L112.057 347.036 Z\" fill=\"#000000\" fill-rule=\"evenodd\" fill-opacity=\"1\" /><path clip-path=\"url(#clip520)\" d=\"M 0 0 M147.612 331.828 Q144.464 331.828 142.612 333.98 Q140.783 336.133 140.783 339.883 Q140.783 343.61 142.612 345.786 Q144.464 347.939 147.612 347.939 Q150.76 347.939 152.589 345.786 Q154.441 343.61 154.441 339.883 Q154.441 336.133 152.589 333.98 Q150.76 331.828 147.612 331.828 M156.894 317.175 L156.894 321.434 Q155.135 320.601 153.33 320.161 Q151.547 319.721 149.788 319.721 Q145.158 319.721 142.705 322.846 Q140.274 325.971 139.927 332.291 Q141.293 330.277 143.353 329.212 Q145.413 328.124 147.89 328.124 Q153.098 328.124 156.107 331.295 Q159.14 334.443 159.14 339.883 Q159.14 345.207 155.992 348.425 Q152.843 351.642 147.612 351.642 Q141.617 351.642 138.445 347.059 Q135.274 342.453 135.274 333.726 Q135.274 325.531 139.163 320.67 Q143.052 315.786 149.603 315.786 Q151.362 315.786 153.144 316.133 Q154.95 316.481 156.894 317.175 Z\" fill=\"#000000\" fill-rule=\"evenodd\" fill-opacity=\"1\" /><path clip-path=\"url(#clip520)\" d=\"M 0 0 M164.209 345.091 L169.093 345.091 L169.093 350.971 L164.209 350.971 L164.209 345.091 Z\" fill=\"#000000\" fill-rule=\"evenodd\" fill-opacity=\"1\" /><path clip-path=\"url(#clip520)\" d=\"M 0 0 M174.302 350.253 L174.302 345.994 Q176.061 346.828 177.866 347.267 Q179.672 347.707 181.408 347.707 Q186.038 347.707 188.468 344.605 Q190.922 341.48 191.269 335.138 Q189.927 337.129 187.866 338.193 Q185.806 339.258 183.306 339.258 Q178.121 339.258 175.089 336.133 Q172.079 332.985 172.079 327.545 Q172.079 322.221 175.228 319.004 Q178.376 315.786 183.607 315.786 Q189.602 315.786 192.751 320.393 Q195.922 324.976 195.922 333.726 Q195.922 341.897 192.033 346.781 Q188.167 351.642 181.616 351.642 Q179.857 351.642 178.052 351.295 Q176.246 350.948 174.302 350.253 M183.607 335.601 Q186.755 335.601 188.584 333.448 Q190.436 331.295 190.436 327.545 Q190.436 323.818 188.584 321.666 Q186.755 319.49 183.607 319.49 Q180.459 319.49 178.607 321.666 Q176.778 323.818 176.778 327.545 Q176.778 331.295 178.607 333.448 Q180.459 335.601 183.607 335.601 Z\" fill=\"#000000\" fill-rule=\"evenodd\" fill-opacity=\"1\" /><path clip-path=\"url(#clip520)\" d=\"M 0 0 M201.13 350.253 L201.13 345.994 Q202.889 346.828 204.695 347.267 Q206.501 347.707 208.237 347.707 Q212.866 347.707 215.297 344.605 Q217.75 341.48 218.098 335.138 Q216.755 337.129 214.695 338.193 Q212.635 339.258 210.135 339.258 Q204.95 339.258 201.917 336.133 Q198.908 332.985 198.908 327.545 Q198.908 322.221 202.056 319.004 Q205.204 315.786 210.436 315.786 Q216.431 315.786 219.579 320.393 Q222.75 324.976 222.75 333.726 Q222.75 341.897 218.862 346.781 Q214.996 351.642 208.445 351.642 Q206.686 351.642 204.88 351.295 Q203.075 350.948 201.13 350.253 M210.436 335.601 Q213.584 335.601 215.413 333.448 Q217.264 331.295 217.264 327.545 Q217.264 323.818 215.413 321.666 Q213.584 319.49 210.436 319.49 Q207.288 319.49 205.436 321.666 Q203.607 323.818 203.607 327.545 Q203.607 331.295 205.436 333.448 Q207.288 335.601 210.436 335.601 Z\" fill=\"#000000\" fill-rule=\"evenodd\" fill-opacity=\"1\" /><path clip-path=\"url(#clip520)\" d=\"M 0 0 M50.9921 140.922 L80.6679 140.922 L80.6679 144.857 L50.9921 144.857 L50.9921 140.922 Z\" fill=\"#000000\" fill-rule=\"evenodd\" fill-opacity=\"1\" /><path clip-path=\"url(#clip520)\" d=\"M 0 0 M89.7651 153.815 L106.084 153.815 L106.084 157.75 L84.1401 157.75 L84.1401 153.815 Q86.8021 151.06 91.3854 146.431 Q95.9919 141.778 97.1724 140.435 Q99.4178 137.912 100.297 136.176 Q101.2 134.417 101.2 132.727 Q101.2 129.973 99.2558 128.236 Q97.3345 126.5 94.2326 126.5 Q92.0336 126.5 89.5799 127.264 Q87.1493 128.028 84.3716 129.579 L84.3716 124.857 Q87.1956 123.723 89.6493 123.144 Q92.103 122.565 94.14 122.565 Q99.5104 122.565 102.705 125.25 Q105.899 127.935 105.899 132.426 Q105.899 134.556 105.089 136.477 Q104.302 138.375 102.196 140.968 Q101.617 141.639 98.515 144.857 Q95.4132 148.051 89.7651 153.815 Z\" fill=\"#000000\" fill-rule=\"evenodd\" fill-opacity=\"1\" /><path clip-path=\"url(#clip520)\" d=\"M 0 0 M111.964 153.815 L119.603 153.815 L119.603 127.449 L111.293 129.116 L111.293 124.857 L119.557 123.19 L124.232 123.19 L124.232 153.815 L131.871 153.815 L131.871 157.75 L111.964 157.75 L111.964 153.815 Z\" fill=\"#000000\" fill-rule=\"evenodd\" fill-opacity=\"1\" /><path clip-path=\"url(#clip520)\" d=\"M 0 0 M147.519 138.607 Q144.371 138.607 142.519 140.759 Q140.691 142.912 140.691 146.662 Q140.691 150.389 142.519 152.565 Q144.371 154.718 147.519 154.718 Q150.668 154.718 152.496 152.565 Q154.348 150.389 154.348 146.662 Q154.348 142.912 152.496 140.759 Q150.668 138.607 147.519 138.607 M156.802 123.954 L156.802 128.213 Q155.042 127.38 153.237 126.94 Q151.455 126.5 149.695 126.5 Q145.066 126.5 142.612 129.625 Q140.181 132.75 139.834 139.07 Q141.2 137.056 143.26 135.991 Q145.32 134.903 147.797 134.903 Q153.005 134.903 156.015 138.074 Q159.047 141.222 159.047 146.662 Q159.047 151.986 155.899 155.204 Q152.751 158.421 147.519 158.421 Q141.524 158.421 138.353 153.838 Q135.181 149.232 135.181 140.505 Q135.181 132.31 139.07 127.449 Q142.959 122.565 149.51 122.565 Q151.269 122.565 153.052 122.912 Q154.857 123.26 156.802 123.954 Z\" fill=\"#000000\" fill-rule=\"evenodd\" fill-opacity=\"1\" /><path clip-path=\"url(#clip520)\" d=\"M 0 0 M164.117 151.871 L169.001 151.871 L169.001 157.75 L164.117 157.75 L164.117 151.871 Z\" fill=\"#000000\" fill-rule=\"evenodd\" fill-opacity=\"1\" /><path clip-path=\"url(#clip520)\" d=\"M 0 0 M174.209 157.033 L174.209 152.773 Q175.968 153.607 177.774 154.046 Q179.579 154.486 181.316 154.486 Q185.945 154.486 188.376 151.384 Q190.829 148.259 191.177 141.917 Q189.834 143.908 187.774 144.972 Q185.714 146.037 183.214 146.037 Q178.028 146.037 174.996 142.912 Q171.987 139.764 171.987 134.324 Q171.987 129 175.135 125.783 Q178.283 122.565 183.515 122.565 Q189.51 122.565 192.658 127.172 Q195.829 131.755 195.829 140.505 Q195.829 148.676 191.94 153.56 Q188.075 158.421 181.524 158.421 Q179.765 158.421 177.959 158.074 Q176.153 157.727 174.209 157.033 M183.515 142.38 Q186.663 142.38 188.491 140.227 Q190.343 138.074 190.343 134.324 Q190.343 130.598 188.491 128.445 Q186.663 126.269 183.515 126.269 Q180.366 126.269 178.515 128.445 Q176.686 130.598 176.686 134.324 Q176.686 138.074 178.515 140.227 Q180.366 142.38 183.515 142.38 Z\" fill=\"#000000\" fill-rule=\"evenodd\" fill-opacity=\"1\" /><path clip-path=\"url(#clip520)\" d=\"M 0 0 M210.899 141.338 Q207.565 141.338 205.644 143.121 Q203.746 144.903 203.746 148.028 Q203.746 151.153 205.644 152.935 Q207.565 154.718 210.899 154.718 Q214.232 154.718 216.153 152.935 Q218.075 151.13 218.075 148.028 Q218.075 144.903 216.153 143.121 Q214.255 141.338 210.899 141.338 M206.223 139.347 Q203.214 138.607 201.524 136.547 Q199.857 134.486 199.857 131.523 Q199.857 127.38 202.797 124.973 Q205.76 122.565 210.899 122.565 Q216.061 122.565 219 124.973 Q221.94 127.38 221.94 131.523 Q221.94 134.486 220.25 136.547 Q218.584 138.607 215.598 139.347 Q218.977 140.135 220.852 142.426 Q222.75 144.718 222.75 148.028 Q222.75 153.051 219.672 155.736 Q216.616 158.421 210.899 158.421 Q205.181 158.421 202.102 155.736 Q199.047 153.051 199.047 148.028 Q199.047 144.718 200.945 142.426 Q202.843 140.135 206.223 139.347 M204.51 131.963 Q204.51 134.648 206.176 136.153 Q207.866 137.658 210.899 137.658 Q213.908 137.658 215.598 136.153 Q217.311 134.648 217.311 131.963 Q217.311 129.278 215.598 127.773 Q213.908 126.269 210.899 126.269 Q207.866 126.269 206.176 127.773 Q204.51 129.278 204.51 131.963 Z\" fill=\"#000000\" fill-rule=\"evenodd\" fill-opacity=\"1\" /><polyline clip-path=\"url(#clip522)\" style=\"stroke:#009af9; stroke-width:4; stroke-opacity:1; fill:none\" points=\"\n",
       "  318.015,491.508 337.77,1445.72 357.524,577.122 377.279,500.558 397.034,498.398 416.789,753.347 436.543,596.73 456.298,206.157 476.053,464.91 495.808,368.302 \n",
       "  515.562,216.297 535.317,123.647 555.072,513.016 574.827,825.769 594.582,439.399 614.336,660.892 634.091,318.537 653.846,140.607 673.601,230.952 693.355,431.923 \n",
       "  713.11,255.72 732.865,391.091 752.62,315.802 772.374,711.29 792.129,990.261 811.884,603.09 831.639,530.72 851.394,388.972 871.148,467.733 890.903,256.623 \n",
       "  910.658,380.236 930.413,186.278 950.167,467.053 969.922,87.9763 989.677,263.948 1009.43,357.735 1029.19,438.083 1048.94,1331.61 1068.7,200.084 1088.45,103.021 \n",
       "  1108.21,584.094 1127.96,348.268 1147.72,130.191 1167.47,369.56 1187.22,263.972 1206.98,429.031 1226.73,317.952 1246.49,786.759 1266.24,1422.68 1286,585.807 \n",
       "  1305.75,181.397 1325.51,160.697 1345.26,701.533 1365.02,230.698 1384.77,237.986 1404.53,243.133 1424.28,383.079 1444.04,628.21 1463.79,572.177 1483.55,143.926 \n",
       "  1503.3,122.934 1523.06,114.674 1542.81,172.228 1562.57,257.332 1582.32,336.648 1602.07,940.772 1621.83,737.954 1641.58,371.978 1661.34,179.901 1681.09,293.887 \n",
       "  1700.85,760.6 1720.6,371.534 1740.36,203.524 1760.11,363.406 1779.87,809.583 1799.62,626.166 1819.38,618.826 1839.13,392.094 1858.89,820.726 1878.64,1179.09 \n",
       "  1898.4,892.276 1918.15,376.517 1937.91,801.066 1957.66,455.867 1977.42,355.466 1997.17,437.478 2016.92,887.318 2036.68,193.283 2056.43,760.499 2076.19,631.479 \n",
       "  2095.94,410.156 2115.7,803.999 2135.45,341.713 2155.21,88.5274 2174.96,208.931 2194.72,257.591 2214.47,629.066 2234.23,224.36 2253.98,172.666 2273.74,479.327 \n",
       "  2293.49,486.211 \n",
       "  \"/>\n",
       "<path clip-path=\"url(#clip520)\" d=\"\n",
       "M1999.27 216.178 L2282.96 216.178 L2282.96 95.2176 L1999.27 95.2176  Z\n",
       "  \" fill=\"#ffffff\" fill-rule=\"evenodd\" fill-opacity=\"1\"/>\n",
       "<polyline clip-path=\"url(#clip520)\" style=\"stroke:#000000; stroke-width:4; stroke-opacity:1; fill:none\" points=\"\n",
       "  1999.27,216.178 2282.96,216.178 2282.96,95.2176 1999.27,95.2176 1999.27,216.178 \n",
       "  \"/>\n",
       "<polyline clip-path=\"url(#clip520)\" style=\"stroke:#009af9; stroke-width:4; stroke-opacity:1; fill:none\" points=\"\n",
       "  2022.54,155.698 2162.14,155.698 \n",
       "  \"/>\n",
       "<path clip-path=\"url(#clip520)\" d=\"M 0 0 M2199.25 175.385 Q2197.44 180.015 2195.73 181.427 Q2194.02 182.839 2191.14 182.839 L2187.74 182.839 L2187.74 179.274 L2190.24 179.274 Q2192 179.274 2192.97 178.44 Q2193.95 177.607 2195.13 174.505 L2195.89 172.561 L2185.4 147.052 L2189.92 147.052 L2198.02 167.329 L2206.12 147.052 L2210.64 147.052 L2199.25 175.385 Z\" fill=\"#000000\" fill-rule=\"evenodd\" fill-opacity=\"1\" /><path clip-path=\"url(#clip520)\" d=\"M 0 0 M2216.51 169.042 L2224.15 169.042 L2224.15 142.677 L2215.84 144.343 L2215.84 140.084 L2224.11 138.418 L2228.78 138.418 L2228.78 169.042 L2236.42 169.042 L2236.42 172.978 L2216.51 172.978 L2216.51 169.042 Z\" fill=\"#000000\" fill-rule=\"evenodd\" fill-opacity=\"1\" /></svg>\n"
      ]
     },
     "execution_count": 214,
     "metadata": {},
     "output_type": "execute_result"
    }
   ],
   "source": [
    "lrate = 0.1\n",
    "epochs = 100\n",
    "batchsize = 10\n",
    "\n",
    "elbos = [elbo(model, dl)]\n",
    "\n",
    "for epoch in 1:epochs\n",
    "    \n",
    "    dl = DataLoader(shuffle(vcat(X₁, X₂, X₃)), batchsize = batchsize)\n",
    "    for batch in dl\n",
    "        scale = length(dl)\n",
    "        \n",
    "        # Gradient update \n",
    "        for (param, ∇L) in ∇elbo(model, batch, stats_scale = scale)\n",
    "            η = naturalparam(param.posterior) + lrate*∇L\n",
    "            update!(param.posterior, η)\n",
    "        end\n",
    "    end\n",
    "    \n",
    "    push!(elbos, elbo(model, dl))\n",
    "end\n",
    "\n",
    "plot(elbos)"
   ]
  },
  {
   "cell_type": "code",
   "execution_count": 124,
   "metadata": {},
   "outputs": [
    {
     "data": {
      "text/plain": [
       "4-element Array{Float64,1}:\n",
       "  0.9318407519512345\n",
       " -0.26634512435207114\n",
       "  1.113186145694532\n",
       "  0.30142776935396803"
      ]
     },
     "execution_count": 124,
     "metadata": {},
     "output_type": "execute_result"
    }
   ],
   "source": [
    "gradlognorm(model.μ.posterior)"
   ]
  },
  {
   "cell_type": "code",
   "execution_count": 26,
   "metadata": {},
   "outputs": [
    {
     "data": {
      "text/plain": [
       "4-element Array{Float64,1}:\n",
       " 11.914475966940637\n",
       " 13.037394088780065\n",
       " -5.0\n",
       " -5.0"
      ]
     },
     "execution_count": 26,
     "metadata": {},
     "output_type": "execute_result"
    }
   ],
   "source": [
    "s = μstats(model, dl[1])\n",
    "#vcat(getindex.(s, 1), getindex.(s, 2))"
   ]
  },
  {
   "cell_type": "code",
   "execution_count": 31,
   "metadata": {},
   "outputs": [
    {
     "data": {
      "text/plain": [
       "Dict{BayesParam,Array{T,1} where T} with 3 entries:\n",
       "  BayesParam{Gamma{Float64},Gamma{Float64}}(G… => [-18.6419, 5.0]\n",
       "  BayesParam{NormalDiag{Float64,2},NormalDiag… => [11.9145, 13.0374, -5.0, -5.0]\n",
       "  BayesParam{Gamma{Float64},Gamma{Float64}}(G… => [-15.0381, 5.0]"
      ]
     },
     "execution_count": 31,
     "metadata": {},
     "output_type": "execute_result"
    }
   ],
   "source": [
    "getparam_stats(model, dl[1])"
   ]
  },
  {
   "cell_type": "code",
   "execution_count": 35,
   "metadata": {},
   "outputs": [
    {
     "ename": "LoadError",
     "evalue": "MethodError: no method matching fit!(::PPCAModel{Float64,2,2}, ::DataLoader{Array{Array{Float64,1},1}}; epochs=100, batchsize=10, callback=monitor)\nClosest candidates are:\n  fit!(::PPCAModel, ::Any; epochs, callback) at /home/lucas/GithubRepositories/PPCA/src/model.jl:158 got unsupported keyword argument \"batchsize\"",
     "output_type": "error",
     "traceback": [
      "MethodError: no method matching fit!(::PPCAModel{Float64,2,2}, ::DataLoader{Array{Array{Float64,1},1}}; epochs=100, batchsize=10, callback=monitor)\nClosest candidates are:\n  fit!(::PPCAModel, ::Any; epochs, callback) at /home/lucas/GithubRepositories/PPCA/src/model.jl:158 got unsupported keyword argument \"batchsize\"",
      "",
      "Stacktrace:",
      " [1] kwerr(::NamedTuple{(:epochs, :batchsize, :callback),Tuple{Int64,Int64,typeof(monitor)}}, ::Function, ::PPCAModel{Float64,2,2}, ::DataLoader{Array{Array{Float64,1},1}}) at ./error.jl:157",
      " [2] top-level scope at In[35]:6",
      " [3] include_string(::Function, ::Module, ::String, ::String) at ./loading.jl:1091"
     ]
    }
   ],
   "source": [
    "function monitor(epoch)\n",
    "    𝓛 = elbo(model, X)\n",
    "    println(\"epoch: $epoch 𝓛 = $𝓛\")\n",
    "end\n",
    "\n",
    "fit!(model, dl, epochs = 100, callback = monitor)"
   ]
  },
  {
   "cell_type": "code",
   "execution_count": 11,
   "metadata": {},
   "outputs": [
    {
     "data": {
      "text/plain": [
       "30-element Array{Float64,1}:\n",
       "  -998.6404479602035\n",
       "  -998.4621610503211\n",
       " -1001.8006250143707\n",
       "  -998.8292172894928\n",
       "  -999.0388160456082\n",
       "  -998.3844609138455\n",
       "  -999.887519530657\n",
       "  -998.4372970178565\n",
       "  -998.3582787403415\n",
       " -1000.9523938435913\n",
       "  -998.3451851159278\n",
       "  -998.554859978746\n",
       "  -998.4286497661419\n",
       "     ⋮\n",
       "  -998.53158655683\n",
       " -1000.5232306640667\n",
       "  -998.8510404758227\n",
       "  -999.3276218444682\n",
       "  -998.5688155314732\n",
       " -1000.5135499400864\n",
       " -1000.0895730665771\n",
       "  -998.2224783896842\n",
       "  -998.9202914117858\n",
       "  -999.6961460781422\n",
       "  -999.3529721168882\n",
       " -1013.0458694873977"
      ]
     },
     "execution_count": 11,
     "metadata": {},
     "output_type": "execute_result"
    }
   ],
   "source": [
    "PPCA.loglikelihood(model, X)"
   ]
  }
 ],
 "metadata": {
  "kernelspec": {
   "display_name": "Julia 1.5.3",
   "language": "julia",
   "name": "julia-1.5"
  },
  "language_info": {
   "file_extension": ".jl",
   "mimetype": "application/julia",
   "name": "julia",
   "version": "1.5.3"
  }
 },
 "nbformat": 4,
 "nbformat_minor": 4
}
