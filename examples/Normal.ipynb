{
 "cells": [
  {
   "cell_type": "markdown",
   "metadata": {},
   "source": [
    "# Normal distribution \n",
    "\n",
    "The simplest model: the Normal distribution. It is used as a basic components in many more complex models."
   ]
  },
  {
   "cell_type": "code",
   "execution_count": 1,
   "metadata": {},
   "outputs": [
    {
     "name": "stderr",
     "output_type": "stream",
     "text": [
      "\u001b[32m\u001b[1m Activating\u001b[22m\u001b[39m environment at `~/GithubRepositories/PPCA/Project.toml`\n",
      "┌ Info: Precompiling BayesianModels [1400088c-90aa-43b9-ae43-7211fec07595]\n",
      "└ @ Base loading.jl:1278\n"
     ]
    }
   ],
   "source": [
    "using Pkg\n",
    "Pkg.activate(\"../\");\n",
    "\n",
    "using LinearAlgebra\n",
    "using Plots\n",
    "using ExpFamilyDistributions\n",
    "using Random\n",
    "\n",
    "using Revise\n",
    "using BayesianModels\n",
    "\n",
    "using BasicDataLoaders\n",
    "\n",
    "# Plotting function\n",
    "include(\"plotting.jl\");"
   ]
  },
  {
   "cell_type": "code",
   "execution_count": 2,
   "metadata": {},
   "outputs": [
    {
     "data": {
      "image/svg+xml": [
       "<?xml version=\"1.0\" encoding=\"utf-8\"?>\n",
       "<svg xmlns=\"http://www.w3.org/2000/svg\" xmlns:xlink=\"http://www.w3.org/1999/xlink\" width=\"600\" height=\"400\" viewBox=\"0 0 2400 1600\">\n",
       "<defs>\n",
       "  <clipPath id=\"clip600\">\n",
       "    <rect x=\"0\" y=\"0\" width=\"2400\" height=\"1600\"/>\n",
       "  </clipPath>\n",
       "</defs>\n",
       "<path clip-path=\"url(#clip600)\" d=\"\n",
       "M0 1600 L2400 1600 L2400 0 L0 0  Z\n",
       "  \" fill=\"#ffffff\" fill-rule=\"evenodd\" fill-opacity=\"1\"/>\n",
       "<defs>\n",
       "  <clipPath id=\"clip601\">\n",
       "    <rect x=\"480\" y=\"0\" width=\"1681\" height=\"1600\"/>\n",
       "  </clipPath>\n",
       "</defs>\n",
       "<path clip-path=\"url(#clip600)\" d=\"\n",
       "M143.033 1486.45 L2352.76 1486.45 L2352.76 47.2441 L143.033 47.2441  Z\n",
       "  \" fill=\"#ffffff\" fill-rule=\"evenodd\" fill-opacity=\"1\"/>\n",
       "<defs>\n",
       "  <clipPath id=\"clip602\">\n",
       "    <rect x=\"143\" y=\"47\" width=\"2211\" height=\"1440\"/>\n",
       "  </clipPath>\n",
       "</defs>\n",
       "<polyline clip-path=\"url(#clip602)\" style=\"stroke:#000000; stroke-width:2; stroke-opacity:0.1; fill:none\" points=\"\n",
       "  647.457,1486.45 647.457,47.2441 \n",
       "  \"/>\n",
       "<polyline clip-path=\"url(#clip602)\" style=\"stroke:#000000; stroke-width:2; stroke-opacity:0.1; fill:none\" points=\"\n",
       "  1190.3,1486.45 1190.3,47.2441 \n",
       "  \"/>\n",
       "<polyline clip-path=\"url(#clip602)\" style=\"stroke:#000000; stroke-width:2; stroke-opacity:0.1; fill:none\" points=\"\n",
       "  1733.14,1486.45 1733.14,47.2441 \n",
       "  \"/>\n",
       "<polyline clip-path=\"url(#clip602)\" style=\"stroke:#000000; stroke-width:2; stroke-opacity:0.1; fill:none\" points=\"\n",
       "  2275.98,1486.45 2275.98,47.2441 \n",
       "  \"/>\n",
       "<polyline clip-path=\"url(#clip600)\" style=\"stroke:#000000; stroke-width:4; stroke-opacity:1; fill:none\" points=\"\n",
       "  143.033,1486.45 2352.76,1486.45 \n",
       "  \"/>\n",
       "<polyline clip-path=\"url(#clip600)\" style=\"stroke:#000000; stroke-width:4; stroke-opacity:1; fill:none\" points=\"\n",
       "  647.457,1486.45 647.457,1469.18 \n",
       "  \"/>\n",
       "<polyline clip-path=\"url(#clip600)\" style=\"stroke:#000000; stroke-width:4; stroke-opacity:1; fill:none\" points=\"\n",
       "  1190.3,1486.45 1190.3,1469.18 \n",
       "  \"/>\n",
       "<polyline clip-path=\"url(#clip600)\" style=\"stroke:#000000; stroke-width:4; stroke-opacity:1; fill:none\" points=\"\n",
       "  1733.14,1486.45 1733.14,1469.18 \n",
       "  \"/>\n",
       "<polyline clip-path=\"url(#clip600)\" style=\"stroke:#000000; stroke-width:4; stroke-opacity:1; fill:none\" points=\"\n",
       "  2275.98,1486.45 2275.98,1469.18 \n",
       "  \"/>\n",
       "<path clip-path=\"url(#clip600)\" d=\"M 0 0 M647.457 1515.64 Q643.846 1515.64 642.017 1519.2 Q640.212 1522.75 640.212 1529.87 Q640.212 1536.98 642.017 1540.55 Q643.846 1544.09 647.457 1544.09 Q651.091 1544.09 652.897 1540.55 Q654.725 1536.98 654.725 1529.87 Q654.725 1522.75 652.897 1519.2 Q651.091 1515.64 647.457 1515.64 M647.457 1511.93 Q653.267 1511.93 656.323 1516.54 Q659.401 1521.12 659.401 1529.87 Q659.401 1538.6 656.323 1543.21 Q653.267 1547.79 647.457 1547.79 Q641.647 1547.79 638.568 1543.21 Q635.512 1538.6 635.512 1529.87 Q635.512 1521.12 638.568 1516.54 Q641.647 1511.93 647.457 1511.93 Z\" fill=\"#000000\" fill-rule=\"evenodd\" fill-opacity=\"1\" /><path clip-path=\"url(#clip600)\" d=\"M 0 0 M1184.95 1543.18 L1201.27 1543.18 L1201.27 1547.12 L1179.32 1547.12 L1179.32 1543.18 Q1181.99 1540.43 1186.57 1535.8 Q1191.18 1531.15 1192.36 1529.81 Q1194.6 1527.28 1195.48 1525.55 Q1196.38 1523.79 1196.38 1522.1 Q1196.38 1519.34 1194.44 1517.61 Q1192.52 1515.87 1189.42 1515.87 Q1187.22 1515.87 1184.76 1516.63 Q1182.33 1517.4 1179.56 1518.95 L1179.56 1514.23 Q1182.38 1513.09 1184.83 1512.51 Q1187.29 1511.93 1189.32 1511.93 Q1194.69 1511.93 1197.89 1514.62 Q1201.08 1517.31 1201.08 1521.8 Q1201.08 1523.93 1200.27 1525.85 Q1199.49 1527.74 1197.38 1530.34 Q1196.8 1531.01 1193.7 1534.23 Q1190.6 1537.42 1184.95 1543.18 Z\" fill=\"#000000\" fill-rule=\"evenodd\" fill-opacity=\"1\" /><path clip-path=\"url(#clip600)\" d=\"M 0 0 M1736.15 1516.63 L1724.34 1535.08 L1736.15 1535.08 L1736.15 1516.63 M1734.92 1512.56 L1740.8 1512.56 L1740.8 1535.08 L1745.73 1535.08 L1745.73 1538.97 L1740.8 1538.97 L1740.8 1547.12 L1736.15 1547.12 L1736.15 1538.97 L1720.54 1538.97 L1720.54 1534.46 L1734.92 1512.56 Z\" fill=\"#000000\" fill-rule=\"evenodd\" fill-opacity=\"1\" /><path clip-path=\"url(#clip600)\" d=\"M 0 0 M2276.38 1527.98 Q2273.23 1527.98 2271.38 1530.13 Q2269.55 1532.28 2269.55 1536.03 Q2269.55 1539.76 2271.38 1541.93 Q2273.23 1544.09 2276.38 1544.09 Q2279.53 1544.09 2281.36 1541.93 Q2283.21 1539.76 2283.21 1536.03 Q2283.21 1532.28 2281.36 1530.13 Q2279.53 1527.98 2276.38 1527.98 M2285.66 1513.32 L2285.66 1517.58 Q2283.9 1516.75 2282.1 1516.31 Q2280.32 1515.87 2278.56 1515.87 Q2273.93 1515.87 2271.47 1519 Q2269.04 1522.12 2268.7 1528.44 Q2270.06 1526.43 2272.12 1525.36 Q2274.18 1524.27 2276.66 1524.27 Q2281.87 1524.27 2284.88 1527.44 Q2287.91 1530.59 2287.91 1536.03 Q2287.91 1541.36 2284.76 1544.57 Q2281.61 1547.79 2276.38 1547.79 Q2270.38 1547.79 2267.21 1543.21 Q2264.04 1538.6 2264.04 1529.87 Q2264.04 1521.68 2267.93 1516.82 Q2271.82 1511.93 2278.37 1511.93 Q2280.13 1511.93 2281.91 1512.28 Q2283.72 1512.63 2285.66 1513.32 Z\" fill=\"#000000\" fill-rule=\"evenodd\" fill-opacity=\"1\" /><polyline clip-path=\"url(#clip602)\" style=\"stroke:#000000; stroke-width:2; stroke-opacity:0.1; fill:none\" points=\"\n",
       "  143.033,1426.44 2352.76,1426.44 \n",
       "  \"/>\n",
       "<polyline clip-path=\"url(#clip602)\" style=\"stroke:#000000; stroke-width:2; stroke-opacity:0.1; fill:none\" points=\"\n",
       "  143.033,1164.67 2352.76,1164.67 \n",
       "  \"/>\n",
       "<polyline clip-path=\"url(#clip602)\" style=\"stroke:#000000; stroke-width:2; stroke-opacity:0.1; fill:none\" points=\"\n",
       "  143.033,902.913 2352.76,902.913 \n",
       "  \"/>\n",
       "<polyline clip-path=\"url(#clip602)\" style=\"stroke:#000000; stroke-width:2; stroke-opacity:0.1; fill:none\" points=\"\n",
       "  143.033,641.152 2352.76,641.152 \n",
       "  \"/>\n",
       "<polyline clip-path=\"url(#clip602)\" style=\"stroke:#000000; stroke-width:2; stroke-opacity:0.1; fill:none\" points=\"\n",
       "  143.033,379.39 2352.76,379.39 \n",
       "  \"/>\n",
       "<polyline clip-path=\"url(#clip602)\" style=\"stroke:#000000; stroke-width:2; stroke-opacity:0.1; fill:none\" points=\"\n",
       "  143.033,117.629 2352.76,117.629 \n",
       "  \"/>\n",
       "<polyline clip-path=\"url(#clip600)\" style=\"stroke:#000000; stroke-width:4; stroke-opacity:1; fill:none\" points=\"\n",
       "  143.033,1486.45 143.033,47.2441 \n",
       "  \"/>\n",
       "<polyline clip-path=\"url(#clip600)\" style=\"stroke:#000000; stroke-width:4; stroke-opacity:1; fill:none\" points=\"\n",
       "  143.033,1426.44 169.55,1426.44 \n",
       "  \"/>\n",
       "<polyline clip-path=\"url(#clip600)\" style=\"stroke:#000000; stroke-width:4; stroke-opacity:1; fill:none\" points=\"\n",
       "  143.033,1164.67 169.55,1164.67 \n",
       "  \"/>\n",
       "<polyline clip-path=\"url(#clip600)\" style=\"stroke:#000000; stroke-width:4; stroke-opacity:1; fill:none\" points=\"\n",
       "  143.033,902.913 169.55,902.913 \n",
       "  \"/>\n",
       "<polyline clip-path=\"url(#clip600)\" style=\"stroke:#000000; stroke-width:4; stroke-opacity:1; fill:none\" points=\"\n",
       "  143.033,641.152 169.55,641.152 \n",
       "  \"/>\n",
       "<polyline clip-path=\"url(#clip600)\" style=\"stroke:#000000; stroke-width:4; stroke-opacity:1; fill:none\" points=\"\n",
       "  143.033,379.39 169.55,379.39 \n",
       "  \"/>\n",
       "<polyline clip-path=\"url(#clip600)\" style=\"stroke:#000000; stroke-width:4; stroke-opacity:1; fill:none\" points=\"\n",
       "  143.033,117.629 169.55,117.629 \n",
       "  \"/>\n",
       "<path clip-path=\"url(#clip600)\" d=\"M 0 0 M50.9921 1426.89 L80.6679 1426.89 L80.6679 1430.82 L50.9921 1430.82 L50.9921 1426.89 Z\" fill=\"#000000\" fill-rule=\"evenodd\" fill-opacity=\"1\" /><path clip-path=\"url(#clip600)\" d=\"M 0 0 M99.9039 1425.08 Q103.26 1425.8 105.135 1428.07 Q107.033 1430.34 107.033 1433.67 Q107.033 1438.79 103.515 1441.59 Q99.9965 1444.39 93.515 1444.39 Q91.3391 1444.39 89.0243 1443.95 Q86.7327 1443.53 84.279 1442.67 L84.279 1438.16 Q86.2234 1439.29 88.5382 1439.87 Q90.853 1440.45 93.3762 1440.45 Q97.7743 1440.45 100.066 1438.72 Q102.381 1436.98 102.381 1433.67 Q102.381 1430.61 100.228 1428.9 Q98.0984 1427.17 94.2789 1427.17 L90.2512 1427.17 L90.2512 1423.32 L94.4641 1423.32 Q97.9132 1423.32 99.7419 1421.96 Q101.571 1420.57 101.571 1417.98 Q101.571 1415.31 99.6724 1413.9 Q97.7974 1412.47 94.2789 1412.47 Q92.3576 1412.47 90.1586 1412.88 Q87.9595 1413.3 85.3206 1414.18 L85.3206 1410.01 Q87.9827 1409.27 90.2975 1408.9 Q92.6354 1408.53 94.6956 1408.53 Q100.02 1408.53 103.121 1410.96 Q106.223 1413.37 106.223 1417.49 Q106.223 1420.36 104.58 1422.35 Q102.936 1424.32 99.9039 1425.08 Z\" fill=\"#000000\" fill-rule=\"evenodd\" fill-opacity=\"1\" /><path clip-path=\"url(#clip600)\" d=\"M 0 0 M51.9412 1165.13 L81.617 1165.13 L81.617 1169.06 L51.9412 1169.06 L51.9412 1165.13 Z\" fill=\"#000000\" fill-rule=\"evenodd\" fill-opacity=\"1\" /><path clip-path=\"url(#clip600)\" d=\"M 0 0 M90.7141 1178.02 L107.033 1178.02 L107.033 1181.95 L85.0892 1181.95 L85.0892 1178.02 Q87.7512 1175.26 92.3345 1170.64 Q96.941 1165.98 98.1215 1164.64 Q100.367 1162.12 101.246 1160.38 Q102.149 1158.62 102.149 1156.93 Q102.149 1154.18 100.205 1152.44 Q98.2835 1150.7 95.1817 1150.7 Q92.9826 1150.7 90.529 1151.47 Q88.0984 1152.23 85.3206 1153.78 L85.3206 1149.06 Q88.1447 1147.93 90.5984 1147.35 Q93.0521 1146.77 95.0891 1146.77 Q100.459 1146.77 103.654 1149.45 Q106.848 1152.14 106.848 1156.63 Q106.848 1158.76 106.038 1160.68 Q105.251 1162.58 103.145 1165.17 Q102.566 1165.84 99.4641 1169.06 Q96.3623 1172.26 90.7141 1178.02 Z\" fill=\"#000000\" fill-rule=\"evenodd\" fill-opacity=\"1\" /><path clip-path=\"url(#clip600)\" d=\"M 0 0 M51.5708 903.364 L81.2466 903.364 L81.2466 907.3 L51.5708 907.3 L51.5708 903.364 Z\" fill=\"#000000\" fill-rule=\"evenodd\" fill-opacity=\"1\" /><path clip-path=\"url(#clip600)\" d=\"M 0 0 M87.1262 916.258 L94.765 916.258 L94.765 889.892 L86.4549 891.559 L86.4549 887.3 L94.7187 885.633 L99.3946 885.633 L99.3946 916.258 L107.033 916.258 L107.033 920.193 L87.1262 920.193 L87.1262 916.258 Z\" fill=\"#000000\" fill-rule=\"evenodd\" fill-opacity=\"1\" /><path clip-path=\"url(#clip600)\" d=\"M 0 0 M95.0891 626.95 Q91.478 626.95 89.6493 630.515 Q87.8438 634.057 87.8438 641.186 Q87.8438 648.293 89.6493 651.858 Q91.478 655.399 95.0891 655.399 Q98.7234 655.399 100.529 651.858 Q102.358 648.293 102.358 641.186 Q102.358 634.057 100.529 630.515 Q98.7234 626.95 95.0891 626.95 M95.0891 623.247 Q100.899 623.247 103.955 627.853 Q107.033 632.436 107.033 641.186 Q107.033 649.913 103.955 654.52 Q100.899 659.103 95.0891 659.103 Q89.279 659.103 86.2003 654.52 Q83.1447 649.913 83.1447 641.186 Q83.1447 632.436 86.2003 627.853 Q89.279 623.247 95.0891 623.247 Z\" fill=\"#000000\" fill-rule=\"evenodd\" fill-opacity=\"1\" /><path clip-path=\"url(#clip600)\" d=\"M 0 0 M87.1262 392.735 L94.765 392.735 L94.765 366.37 L86.4549 368.036 L86.4549 363.777 L94.7187 362.11 L99.3946 362.11 L99.3946 392.735 L107.033 392.735 L107.033 396.67 L87.1262 396.67 L87.1262 392.735 Z\" fill=\"#000000\" fill-rule=\"evenodd\" fill-opacity=\"1\" /><path clip-path=\"url(#clip600)\" d=\"M 0 0 M90.7141 130.974 L107.033 130.974 L107.033 134.909 L85.0892 134.909 L85.0892 130.974 Q87.7512 128.219 92.3345 123.59 Q96.941 118.937 98.1215 117.594 Q100.367 115.071 101.246 113.335 Q102.149 111.576 102.149 109.886 Q102.149 107.131 100.205 105.395 Q98.2835 103.659 95.1817 103.659 Q92.9826 103.659 90.529 104.423 Q88.0984 105.187 85.3206 106.738 L85.3206 102.016 Q88.1447 100.881 90.5984 100.303 Q93.0521 99.7239 95.0891 99.7239 Q100.459 99.7239 103.654 102.409 Q106.848 105.094 106.848 109.585 Q106.848 111.715 106.038 113.636 Q105.251 115.534 103.145 118.127 Q102.566 118.798 99.4641 122.015 Q96.3623 125.21 90.7141 130.974 Z\" fill=\"#000000\" fill-rule=\"evenodd\" fill-opacity=\"1\" /><circle clip-path=\"url(#clip602)\" cx=\"666.254\" cy=\"324.371\" r=\"14\" fill=\"#0000ff\" fill-rule=\"evenodd\" fill-opacity=\"1\" stroke=\"#000000\" stroke-opacity=\"1\" stroke-width=\"3.2\"/>\n",
       "<circle clip-path=\"url(#clip602)\" cx=\"688.024\" cy=\"409.716\" r=\"14\" fill=\"#0000ff\" fill-rule=\"evenodd\" fill-opacity=\"1\" stroke=\"#000000\" stroke-opacity=\"1\" stroke-width=\"3.2\"/>\n",
       "<circle clip-path=\"url(#clip602)\" cx=\"1524.87\" cy=\"87.9763\" r=\"14\" fill=\"#0000ff\" fill-rule=\"evenodd\" fill-opacity=\"1\" stroke=\"#000000\" stroke-opacity=\"1\" stroke-width=\"3.2\"/>\n",
       "<circle clip-path=\"url(#clip602)\" cx=\"1070.91\" cy=\"504.225\" r=\"14\" fill=\"#0000ff\" fill-rule=\"evenodd\" fill-opacity=\"1\" stroke=\"#000000\" stroke-opacity=\"1\" stroke-width=\"3.2\"/>\n",
       "<circle clip-path=\"url(#clip602)\" cx=\"648.004\" cy=\"144.587\" r=\"14\" fill=\"#0000ff\" fill-rule=\"evenodd\" fill-opacity=\"1\" stroke=\"#000000\" stroke-opacity=\"1\" stroke-width=\"3.2\"/>\n",
       "<circle clip-path=\"url(#clip602)\" cx=\"802.106\" cy=\"410.071\" r=\"14\" fill=\"#0000ff\" fill-rule=\"evenodd\" fill-opacity=\"1\" stroke=\"#000000\" stroke-opacity=\"1\" stroke-width=\"3.2\"/>\n",
       "<circle clip-path=\"url(#clip602)\" cx=\"1259.33\" cy=\"158.563\" r=\"14\" fill=\"#0000ff\" fill-rule=\"evenodd\" fill-opacity=\"1\" stroke=\"#000000\" stroke-opacity=\"1\" stroke-width=\"3.2\"/>\n",
       "<circle clip-path=\"url(#clip602)\" cx=\"867.256\" cy=\"391.932\" r=\"14\" fill=\"#0000ff\" fill-rule=\"evenodd\" fill-opacity=\"1\" stroke=\"#000000\" stroke-opacity=\"1\" stroke-width=\"3.2\"/>\n",
       "<circle clip-path=\"url(#clip602)\" cx=\"759.889\" cy=\"436.028\" r=\"14\" fill=\"#0000ff\" fill-rule=\"evenodd\" fill-opacity=\"1\" stroke=\"#000000\" stroke-opacity=\"1\" stroke-width=\"3.2\"/>\n",
       "<circle clip-path=\"url(#clip602)\" cx=\"1421.76\" cy=\"131.362\" r=\"14\" fill=\"#0000ff\" fill-rule=\"evenodd\" fill-opacity=\"1\" stroke=\"#000000\" stroke-opacity=\"1\" stroke-width=\"3.2\"/>\n",
       "<circle clip-path=\"url(#clip602)\" cx=\"836.041\" cy=\"453.354\" r=\"14\" fill=\"#0000ff\" fill-rule=\"evenodd\" fill-opacity=\"1\" stroke=\"#000000\" stroke-opacity=\"1\" stroke-width=\"3.2\"/>\n",
       "<circle clip-path=\"url(#clip602)\" cx=\"978.484\" cy=\"469.752\" r=\"14\" fill=\"#0000ff\" fill-rule=\"evenodd\" fill-opacity=\"1\" stroke=\"#000000\" stroke-opacity=\"1\" stroke-width=\"3.2\"/>\n",
       "<circle clip-path=\"url(#clip602)\" cx=\"774.827\" cy=\"379.832\" r=\"14\" fill=\"#0000ff\" fill-rule=\"evenodd\" fill-opacity=\"1\" stroke=\"#000000\" stroke-opacity=\"1\" stroke-width=\"3.2\"/>\n",
       "<circle clip-path=\"url(#clip602)\" cx=\"1353.43\" cy=\"389.717\" r=\"14\" fill=\"#0000ff\" fill-rule=\"evenodd\" fill-opacity=\"1\" stroke=\"#000000\" stroke-opacity=\"1\" stroke-width=\"3.2\"/>\n",
       "<circle clip-path=\"url(#clip602)\" cx=\"988.229\" cy=\"304.205\" r=\"14\" fill=\"#0000ff\" fill-rule=\"evenodd\" fill-opacity=\"1\" stroke=\"#000000\" stroke-opacity=\"1\" stroke-width=\"3.2\"/>\n",
       "<circle clip-path=\"url(#clip602)\" cx=\"834.413\" cy=\"289.461\" r=\"14\" fill=\"#0000ff\" fill-rule=\"evenodd\" fill-opacity=\"1\" stroke=\"#000000\" stroke-opacity=\"1\" stroke-width=\"3.2\"/>\n",
       "<circle clip-path=\"url(#clip602)\" cx=\"1086.98\" cy=\"519.109\" r=\"14\" fill=\"#0000ff\" fill-rule=\"evenodd\" fill-opacity=\"1\" stroke=\"#000000\" stroke-opacity=\"1\" stroke-width=\"3.2\"/>\n",
       "<circle clip-path=\"url(#clip602)\" cx=\"1510.96\" cy=\"292.596\" r=\"14\" fill=\"#0000ff\" fill-rule=\"evenodd\" fill-opacity=\"1\" stroke=\"#000000\" stroke-opacity=\"1\" stroke-width=\"3.2\"/>\n",
       "<circle clip-path=\"url(#clip602)\" cx=\"678.141\" cy=\"375.67\" r=\"14\" fill=\"#0000ff\" fill-rule=\"evenodd\" fill-opacity=\"1\" stroke=\"#000000\" stroke-opacity=\"1\" stroke-width=\"3.2\"/>\n",
       "<circle clip-path=\"url(#clip602)\" cx=\"1368.55\" cy=\"366.072\" r=\"14\" fill=\"#0000ff\" fill-rule=\"evenodd\" fill-opacity=\"1\" stroke=\"#000000\" stroke-opacity=\"1\" stroke-width=\"3.2\"/>\n",
       "<circle clip-path=\"url(#clip602)\" cx=\"447.417\" cy=\"579.386\" r=\"14\" fill=\"#0000ff\" fill-rule=\"evenodd\" fill-opacity=\"1\" stroke=\"#000000\" stroke-opacity=\"1\" stroke-width=\"3.2\"/>\n",
       "<circle clip-path=\"url(#clip602)\" cx=\"1164.05\" cy=\"291.356\" r=\"14\" fill=\"#0000ff\" fill-rule=\"evenodd\" fill-opacity=\"1\" stroke=\"#000000\" stroke-opacity=\"1\" stroke-width=\"3.2\"/>\n",
       "<circle clip-path=\"url(#clip602)\" cx=\"750.321\" cy=\"297.192\" r=\"14\" fill=\"#0000ff\" fill-rule=\"evenodd\" fill-opacity=\"1\" stroke=\"#000000\" stroke-opacity=\"1\" stroke-width=\"3.2\"/>\n",
       "<circle clip-path=\"url(#clip602)\" cx=\"219.985\" cy=\"428.57\" r=\"14\" fill=\"#0000ff\" fill-rule=\"evenodd\" fill-opacity=\"1\" stroke=\"#000000\" stroke-opacity=\"1\" stroke-width=\"3.2\"/>\n",
       "<circle clip-path=\"url(#clip602)\" cx=\"1306.1\" cy=\"350.938\" r=\"14\" fill=\"#0000ff\" fill-rule=\"evenodd\" fill-opacity=\"1\" stroke=\"#000000\" stroke-opacity=\"1\" stroke-width=\"3.2\"/>\n",
       "<circle clip-path=\"url(#clip602)\" cx=\"823.195\" cy=\"568.583\" r=\"14\" fill=\"#0000ff\" fill-rule=\"evenodd\" fill-opacity=\"1\" stroke=\"#000000\" stroke-opacity=\"1\" stroke-width=\"3.2\"/>\n",
       "<circle clip-path=\"url(#clip602)\" cx=\"1088.01\" cy=\"448.355\" r=\"14\" fill=\"#0000ff\" fill-rule=\"evenodd\" fill-opacity=\"1\" stroke=\"#000000\" stroke-opacity=\"1\" stroke-width=\"3.2\"/>\n",
       "<circle clip-path=\"url(#clip602)\" cx=\"1245.19\" cy=\"531.63\" r=\"14\" fill=\"#0000ff\" fill-rule=\"evenodd\" fill-opacity=\"1\" stroke=\"#000000\" stroke-opacity=\"1\" stroke-width=\"3.2\"/>\n",
       "<circle clip-path=\"url(#clip602)\" cx=\"345.339\" cy=\"574.957\" r=\"14\" fill=\"#0000ff\" fill-rule=\"evenodd\" fill-opacity=\"1\" stroke=\"#000000\" stroke-opacity=\"1\" stroke-width=\"3.2\"/>\n",
       "<circle clip-path=\"url(#clip602)\" cx=\"2290.22\" cy=\"429.767\" r=\"14\" fill=\"#0000ff\" fill-rule=\"evenodd\" fill-opacity=\"1\" stroke=\"#000000\" stroke-opacity=\"1\" stroke-width=\"3.2\"/>\n",
       "<circle clip-path=\"url(#clip602)\" cx=\"470.691\" cy=\"1198.2\" r=\"14\" fill=\"#0000ff\" fill-rule=\"evenodd\" fill-opacity=\"1\" stroke=\"#000000\" stroke-opacity=\"1\" stroke-width=\"3.2\"/>\n",
       "<circle clip-path=\"url(#clip602)\" cx=\"352.187\" cy=\"1445.72\" r=\"14\" fill=\"#0000ff\" fill-rule=\"evenodd\" fill-opacity=\"1\" stroke=\"#000000\" stroke-opacity=\"1\" stroke-width=\"3.2\"/>\n",
       "<circle clip-path=\"url(#clip602)\" cx=\"637.516\" cy=\"1226.51\" r=\"14\" fill=\"#0000ff\" fill-rule=\"evenodd\" fill-opacity=\"1\" stroke=\"#000000\" stroke-opacity=\"1\" stroke-width=\"3.2\"/>\n",
       "<circle clip-path=\"url(#clip602)\" cx=\"205.573\" cy=\"561.61\" r=\"14\" fill=\"#0000ff\" fill-rule=\"evenodd\" fill-opacity=\"1\" stroke=\"#000000\" stroke-opacity=\"1\" stroke-width=\"3.2\"/>\n",
       "<circle clip-path=\"url(#clip602)\" cx=\"481.456\" cy=\"894.186\" r=\"14\" fill=\"#0000ff\" fill-rule=\"evenodd\" fill-opacity=\"1\" stroke=\"#000000\" stroke-opacity=\"1\" stroke-width=\"3.2\"/>\n",
       "<circle clip-path=\"url(#clip602)\" cx=\"361.818\" cy=\"567.06\" r=\"14\" fill=\"#0000ff\" fill-rule=\"evenodd\" fill-opacity=\"1\" stroke=\"#000000\" stroke-opacity=\"1\" stroke-width=\"3.2\"/>\n",
       "<circle clip-path=\"url(#clip602)\" cx=\"396.924\" cy=\"750.441\" r=\"14\" fill=\"#0000ff\" fill-rule=\"evenodd\" fill-opacity=\"1\" stroke=\"#000000\" stroke-opacity=\"1\" stroke-width=\"3.2\"/>\n",
       "<circle clip-path=\"url(#clip602)\" cx=\"275.167\" cy=\"873.163\" r=\"14\" fill=\"#0000ff\" fill-rule=\"evenodd\" fill-opacity=\"1\" stroke=\"#000000\" stroke-opacity=\"1\" stroke-width=\"3.2\"/>\n",
       "<circle clip-path=\"url(#clip602)\" cx=\"275.282\" cy=\"854.881\" r=\"14\" fill=\"#0000ff\" fill-rule=\"evenodd\" fill-opacity=\"1\" stroke=\"#000000\" stroke-opacity=\"1\" stroke-width=\"3.2\"/>\n",
       "<circle clip-path=\"url(#clip602)\" cx=\"561.099\" cy=\"1414.25\" r=\"14\" fill=\"#0000ff\" fill-rule=\"evenodd\" fill-opacity=\"1\" stroke=\"#000000\" stroke-opacity=\"1\" stroke-width=\"3.2\"/>\n",
       "<circle clip-path=\"url(#clip602)\" cx=\"1249.96\" cy=\"1051.36\" r=\"14\" fill=\"#0000ff\" fill-rule=\"evenodd\" fill-opacity=\"1\" stroke=\"#000000\" stroke-opacity=\"1\" stroke-width=\"3.2\"/>\n",
       "<circle clip-path=\"url(#clip602)\" cx=\"1323.89\" cy=\"650.632\" r=\"14\" fill=\"#0000ff\" fill-rule=\"evenodd\" fill-opacity=\"1\" stroke=\"#000000\" stroke-opacity=\"1\" stroke-width=\"3.2\"/>\n",
       "<circle clip-path=\"url(#clip602)\" cx=\"1033.93\" cy=\"930.456\" r=\"14\" fill=\"#0000ff\" fill-rule=\"evenodd\" fill-opacity=\"1\" stroke=\"#000000\" stroke-opacity=\"1\" stroke-width=\"3.2\"/>\n",
       "<circle clip-path=\"url(#clip602)\" cx=\"1143.15\" cy=\"1069.95\" r=\"14\" fill=\"#0000ff\" fill-rule=\"evenodd\" fill-opacity=\"1\" stroke=\"#000000\" stroke-opacity=\"1\" stroke-width=\"3.2\"/>\n",
       "<circle clip-path=\"url(#clip602)\" cx=\"1138.57\" cy=\"1128.76\" r=\"14\" fill=\"#0000ff\" fill-rule=\"evenodd\" fill-opacity=\"1\" stroke=\"#000000\" stroke-opacity=\"1\" stroke-width=\"3.2\"/>\n",
       "<circle clip-path=\"url(#clip602)\" cx=\"1025.12\" cy=\"895.606\" r=\"14\" fill=\"#0000ff\" fill-rule=\"evenodd\" fill-opacity=\"1\" stroke=\"#000000\" stroke-opacity=\"1\" stroke-width=\"3.2\"/>\n",
       "<circle clip-path=\"url(#clip602)\" cx=\"1010.8\" cy=\"941.982\" r=\"14\" fill=\"#0000ff\" fill-rule=\"evenodd\" fill-opacity=\"1\" stroke=\"#000000\" stroke-opacity=\"1\" stroke-width=\"3.2\"/>\n",
       "<circle clip-path=\"url(#clip602)\" cx=\"958.908\" cy=\"902.696\" r=\"14\" fill=\"#0000ff\" fill-rule=\"evenodd\" fill-opacity=\"1\" stroke=\"#000000\" stroke-opacity=\"1\" stroke-width=\"3.2\"/>\n",
       "<circle clip-path=\"url(#clip602)\" cx=\"1307.38\" cy=\"1012.23\" r=\"14\" fill=\"#0000ff\" fill-rule=\"evenodd\" fill-opacity=\"1\" stroke=\"#000000\" stroke-opacity=\"1\" stroke-width=\"3.2\"/>\n",
       "<circle clip-path=\"url(#clip602)\" cx=\"1533.09\" cy=\"1070.23\" r=\"14\" fill=\"#0000ff\" fill-rule=\"evenodd\" fill-opacity=\"1\" stroke=\"#000000\" stroke-opacity=\"1\" stroke-width=\"3.2\"/>\n",
       "<circle clip-path=\"url(#clip602)\" cx=\"1198.67\" cy=\"689.073\" r=\"14\" fill=\"#0000ff\" fill-rule=\"evenodd\" fill-opacity=\"1\" stroke=\"#000000\" stroke-opacity=\"1\" stroke-width=\"3.2\"/>\n",
       "<circle clip-path=\"url(#clip602)\" cx=\"1105.96\" cy=\"997.814\" r=\"14\" fill=\"#0000ff\" fill-rule=\"evenodd\" fill-opacity=\"1\" stroke=\"#000000\" stroke-opacity=\"1\" stroke-width=\"3.2\"/>\n",
       "<circle clip-path=\"url(#clip602)\" cx=\"889.922\" cy=\"854.093\" r=\"14\" fill=\"#0000ff\" fill-rule=\"evenodd\" fill-opacity=\"1\" stroke=\"#000000\" stroke-opacity=\"1\" stroke-width=\"3.2\"/>\n",
       "<circle clip-path=\"url(#clip602)\" cx=\"987.293\" cy=\"1103.31\" r=\"14\" fill=\"#0000ff\" fill-rule=\"evenodd\" fill-opacity=\"1\" stroke=\"#000000\" stroke-opacity=\"1\" stroke-width=\"3.2\"/>\n",
       "<circle clip-path=\"url(#clip602)\" cx=\"885.029\" cy=\"1216.77\" r=\"14\" fill=\"#0000ff\" fill-rule=\"evenodd\" fill-opacity=\"1\" stroke=\"#000000\" stroke-opacity=\"1\" stroke-width=\"3.2\"/>\n",
       "<circle clip-path=\"url(#clip602)\" cx=\"1213.23\" cy=\"640.265\" r=\"14\" fill=\"#0000ff\" fill-rule=\"evenodd\" fill-opacity=\"1\" stroke=\"#000000\" stroke-opacity=\"1\" stroke-width=\"3.2\"/>\n",
       "<circle clip-path=\"url(#clip602)\" cx=\"1137.79\" cy=\"1017.43\" r=\"14\" fill=\"#0000ff\" fill-rule=\"evenodd\" fill-opacity=\"1\" stroke=\"#000000\" stroke-opacity=\"1\" stroke-width=\"3.2\"/>\n",
       "<circle clip-path=\"url(#clip602)\" cx=\"802.357\" cy=\"808.97\" r=\"14\" fill=\"#0000ff\" fill-rule=\"evenodd\" fill-opacity=\"1\" stroke=\"#000000\" stroke-opacity=\"1\" stroke-width=\"3.2\"/>\n",
       "<circle clip-path=\"url(#clip602)\" cx=\"1456.66\" cy=\"917.81\" r=\"14\" fill=\"#0000ff\" fill-rule=\"evenodd\" fill-opacity=\"1\" stroke=\"#000000\" stroke-opacity=\"1\" stroke-width=\"3.2\"/>\n",
       "<circle clip-path=\"url(#clip602)\" cx=\"1208.44\" cy=\"977.483\" r=\"14\" fill=\"#0000ff\" fill-rule=\"evenodd\" fill-opacity=\"1\" stroke=\"#000000\" stroke-opacity=\"1\" stroke-width=\"3.2\"/>\n",
       "</svg>\n"
      ]
     },
     "execution_count": 2,
     "metadata": {},
     "output_type": "execute_result"
    }
   ],
   "source": [
    "Random.seed!(100)\n",
    "\n",
    "T = Float64\n",
    "\n",
    "μ₁ = T[1, 1] \n",
    "Σ₁ = T[2. 0; 0  0.3]\n",
    "\n",
    "μ₂ = T[-1, -1] \n",
    "Σ₂ = T[0.3 0; 0  2]\n",
    "\n",
    "μ₃ = T[2, -1] \n",
    "Σ₃ = T[0.5 0; 0  0.5]\n",
    "\n",
    "function draw(n, μ, Σ)\n",
    "    L = cholesky(Σ).L\n",
    "    [μ + L*randn(T, 2) for i in 1:n] \n",
    "end\n",
    "\n",
    "X₁ = draw(30, μ₁, Σ₁)\n",
    "X₂ = draw(10, μ₂, Σ₂)\n",
    "X₃ = draw(20, μ₃, Σ₃)\n",
    "\n",
    "scatter(getindex.(X₁, 1), getindex.(X₁, 2), color = :blue, legend = false)\n",
    "scatter!(getindex.(X₂, 1), getindex.(X₂, 2), color = :blue)\n",
    "scatter!(getindex.(X₃, 1), getindex.(X₃, 2), color = :blue)"
   ]
  },
  {
   "cell_type": "code",
   "execution_count": 8,
   "metadata": {},
   "outputs": [
    {
     "data": {
      "text/plain": [
       "Mixture{BayesianModels.NormalDiag{Float64,2},5}:\n",
       "  π: BayesParam{Dirichlet{Float64,5},Dirichlet{Float64,5}}\n",
       "  components: NTuple{5,BayesianModels.NormalDiag{Float64,2}}\n"
      ]
     },
     "execution_count": 8,
     "metadata": {},
     "output_type": "execute_result"
    }
   ],
   "source": [
    "K = 5\n",
    "normals = [BayesianModels.NormalDiag(datadim = 2, pstrength = 1) for i in 1:K]\n",
    "Mixture(components = normals)"
   ]
  },
  {
   "cell_type": "code",
   "execution_count": 2,
   "metadata": {},
   "outputs": [
    {
     "ename": "LoadError",
     "evalue": "UndefVarError: model not defined",
     "output_type": "error",
     "traceback": [
      "UndefVarError: model not defined",
      "",
      "Stacktrace:",
      " [1] top-level scope at In[2]:5",
      " [2] include_string(::Function, ::Module, ::String, ::String) at ./loading.jl:1091"
     ]
    }
   ],
   "source": [
    "lrate = 0.1\n",
    "epochs = 100\n",
    "batchsize = 10\n",
    "\n",
    "elbos = [elbo(model, dl)]\n",
    "\n",
    "for epoch in 1:epochs\n",
    "    \n",
    "    dl = DataLoader(shuffle(vcat(X₁, X₂, X₃)), batchsize = batchsize)\n",
    "    for batch in dl\n",
    "        scale = length(dl)\n",
    "    \n",
    "        # Gradient update \n",
    "        for (param, ∇L) in ∇elbo(model, batch, stats_scale = scale)\n",
    "            η = naturalparam(param.posterior) + lrate*∇L\n",
    "            update!(param.posterior, η)\n",
    "        end\n",
    "    end\n",
    "    \n",
    "    push!(elbos, elbo(model, dl))\n",
    "end\n",
    "\n",
    "plot(elbos)"
   ]
  },
  {
   "cell_type": "code",
   "execution_count": 124,
   "metadata": {},
   "outputs": [
    {
     "data": {
      "text/plain": [
       "4-element Array{Float64,1}:\n",
       "  0.9318407519512345\n",
       " -0.26634512435207114\n",
       "  1.113186145694532\n",
       "  0.30142776935396803"
      ]
     },
     "execution_count": 124,
     "metadata": {},
     "output_type": "execute_result"
    }
   ],
   "source": [
    "gradlognorm(model.μ.posterior)"
   ]
  },
  {
   "cell_type": "code",
   "execution_count": 26,
   "metadata": {},
   "outputs": [
    {
     "data": {
      "text/plain": [
       "4-element Array{Float64,1}:\n",
       " 11.914475966940637\n",
       " 13.037394088780065\n",
       " -5.0\n",
       " -5.0"
      ]
     },
     "execution_count": 26,
     "metadata": {},
     "output_type": "execute_result"
    }
   ],
   "source": [
    "s = μstats(model, dl[1])\n",
    "#vcat(getindex.(s, 1), getindex.(s, 2))"
   ]
  },
  {
   "cell_type": "code",
   "execution_count": 31,
   "metadata": {},
   "outputs": [
    {
     "data": {
      "text/plain": [
       "Dict{BayesParam,Array{T,1} where T} with 3 entries:\n",
       "  BayesParam{Gamma{Float64},Gamma{Float64}}(G… => [-18.6419, 5.0]\n",
       "  BayesParam{NormalDiag{Float64,2},NormalDiag… => [11.9145, 13.0374, -5.0, -5.0]\n",
       "  BayesParam{Gamma{Float64},Gamma{Float64}}(G… => [-15.0381, 5.0]"
      ]
     },
     "execution_count": 31,
     "metadata": {},
     "output_type": "execute_result"
    }
   ],
   "source": [
    "getparam_stats(model, dl[1])"
   ]
  },
  {
   "cell_type": "code",
   "execution_count": 35,
   "metadata": {},
   "outputs": [
    {
     "ename": "LoadError",
     "evalue": "MethodError: no method matching fit!(::PPCAModel{Float64,2,2}, ::DataLoader{Array{Array{Float64,1},1}}; epochs=100, batchsize=10, callback=monitor)\nClosest candidates are:\n  fit!(::PPCAModel, ::Any; epochs, callback) at /home/lucas/GithubRepositories/PPCA/src/model.jl:158 got unsupported keyword argument \"batchsize\"",
     "output_type": "error",
     "traceback": [
      "MethodError: no method matching fit!(::PPCAModel{Float64,2,2}, ::DataLoader{Array{Array{Float64,1},1}}; epochs=100, batchsize=10, callback=monitor)\nClosest candidates are:\n  fit!(::PPCAModel, ::Any; epochs, callback) at /home/lucas/GithubRepositories/PPCA/src/model.jl:158 got unsupported keyword argument \"batchsize\"",
      "",
      "Stacktrace:",
      " [1] kwerr(::NamedTuple{(:epochs, :batchsize, :callback),Tuple{Int64,Int64,typeof(monitor)}}, ::Function, ::PPCAModel{Float64,2,2}, ::DataLoader{Array{Array{Float64,1},1}}) at ./error.jl:157",
      " [2] top-level scope at In[35]:6",
      " [3] include_string(::Function, ::Module, ::String, ::String) at ./loading.jl:1091"
     ]
    }
   ],
   "source": [
    "function monitor(epoch)\n",
    "    𝓛 = elbo(model, X)\n",
    "    println(\"epoch: $epoch 𝓛 = $𝓛\")\n",
    "end\n",
    "\n",
    "fit!(model, dl, epochs = 100, callback = monitor)"
   ]
  },
  {
   "cell_type": "code",
   "execution_count": 11,
   "metadata": {},
   "outputs": [
    {
     "data": {
      "text/plain": [
       "30-element Array{Float64,1}:\n",
       "  -998.6404479602035\n",
       "  -998.4621610503211\n",
       " -1001.8006250143707\n",
       "  -998.8292172894928\n",
       "  -999.0388160456082\n",
       "  -998.3844609138455\n",
       "  -999.887519530657\n",
       "  -998.4372970178565\n",
       "  -998.3582787403415\n",
       " -1000.9523938435913\n",
       "  -998.3451851159278\n",
       "  -998.554859978746\n",
       "  -998.4286497661419\n",
       "     ⋮\n",
       "  -998.53158655683\n",
       " -1000.5232306640667\n",
       "  -998.8510404758227\n",
       "  -999.3276218444682\n",
       "  -998.5688155314732\n",
       " -1000.5135499400864\n",
       " -1000.0895730665771\n",
       "  -998.2224783896842\n",
       "  -998.9202914117858\n",
       "  -999.6961460781422\n",
       "  -999.3529721168882\n",
       " -1013.0458694873977"
      ]
     },
     "execution_count": 11,
     "metadata": {},
     "output_type": "execute_result"
    }
   ],
   "source": [
    "PPCA.loglikelihood(model, X)"
   ]
  }
 ],
 "metadata": {
  "kernelspec": {
   "display_name": "Julia 1.5.3",
   "language": "julia",
   "name": "julia-1.5"
  },
  "language_info": {
   "file_extension": ".jl",
   "mimetype": "application/julia",
   "name": "julia",
   "version": "1.5.3"
  }
 },
 "nbformat": 4,
 "nbformat_minor": 4
}
